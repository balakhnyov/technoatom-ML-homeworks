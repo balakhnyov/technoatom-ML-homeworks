{
 "cells": [
  {
   "cell_type": "markdown",
   "metadata": {
    "toc": true
   },
   "source": [
    "<h1>Table of Contents<span class=\"tocSkip\"></span></h1>\n",
    "<div class=\"toc\"><ul class=\"toc-item\"><li><span><a href=\"#Exploratory-Data-Analysis-and-Metric\" data-toc-modified-id=\"Exploratory-Data-Analysis-and-Metric-1\"><span class=\"toc-item-num\">1&nbsp;&nbsp;</span>Exploratory Data Analysis and Metric</a></span></li><li><span><a href=\"#Model\" data-toc-modified-id=\"Model-2\"><span class=\"toc-item-num\">2&nbsp;&nbsp;</span>Model</a></span></li><li><span><a href=\"#Submit\" data-toc-modified-id=\"Submit-3\"><span class=\"toc-item-num\">3&nbsp;&nbsp;</span>Submit</a></span></li><li><span><a href=\"#Homework\" data-toc-modified-id=\"Homework-4\"><span class=\"toc-item-num\">4&nbsp;&nbsp;</span>Homework</a></span></li></ul></div>"
   ]
  },
  {
   "cell_type": "code",
   "execution_count": 1,
   "metadata": {
    "ExecuteTime": {
     "end_time": "2021-05-05T11:26:44.919476Z",
     "start_time": "2021-05-05T11:26:43.329717Z"
    }
   },
   "outputs": [],
   "source": [
    "import pandas as pd\n",
    "import numpy as np\n",
    "import matplotlib.pyplot as plt\n",
    "plt.style.use('ggplot')\n",
    "\n",
    "import tqdm\n",
    "from collections import Counter\n",
    "from sklearn.preprocessing  import LabelEncoder\n",
    "from sklearn.feature_extraction.text import TfidfVectorizer\n",
    "from sklearn.linear_model import SGDClassifier\n",
    "from sklearn.pipeline import Pipeline\n",
    "from sklearn.metrics import balanced_accuracy_score"
   ]
  },
  {
   "cell_type": "code",
   "execution_count": 2,
   "metadata": {
    "ExecuteTime": {
     "end_time": "2021-05-05T11:26:45.281689Z",
     "start_time": "2021-05-05T11:26:45.279690Z"
    }
   },
   "outputs": [],
   "source": [
    "SEED = 42"
   ]
  },
  {
   "cell_type": "code",
   "execution_count": 3,
   "metadata": {
    "ExecuteTime": {
     "end_time": "2021-05-05T11:26:53.245543Z",
     "start_time": "2021-05-05T11:26:53.239541Z"
    }
   },
   "outputs": [],
   "source": [
    "DATA_PATH = './data/competition_data'"
   ]
  },
  {
   "cell_type": "markdown",
   "metadata": {},
   "source": [
    "**[Kaggle InClass: Language Detection](https://www.kaggle.com/t/bb11ace54b1a465e91b8c3f46a840ce0)**"
   ]
  },
  {
   "cell_type": "markdown",
   "metadata": {
    "ExecuteTime": {
     "end_time": "2020-10-30T12:22:00.913789Z",
     "start_time": "2020-10-30T12:22:00.909736Z"
    }
   },
   "source": [
    "# Exploratory Data Analysis and Metric"
   ]
  },
  {
   "cell_type": "code",
   "execution_count": 4,
   "metadata": {
    "ExecuteTime": {
     "end_time": "2021-05-05T11:27:06.484013Z",
     "start_time": "2021-05-05T11:26:58.551085Z"
    }
   },
   "outputs": [],
   "source": [
    "train_df = pd.read_csv(f'{DATA_PATH}/train.csv')\n",
    "test_df = pd.read_csv(f'{DATA_PATH}/test.csv')"
   ]
  },
  {
   "cell_type": "code",
   "execution_count": 6,
   "metadata": {
    "ExecuteTime": {
     "end_time": "2021-05-03T23:35:03.980220Z",
     "start_time": "2021-05-03T23:35:03.966218Z"
    }
   },
   "outputs": [
    {
     "data": {
      "text/plain": [
       "((3159633, 2), (2784634, 2))"
      ]
     },
     "execution_count": 6,
     "metadata": {},
     "output_type": "execute_result"
    }
   ],
   "source": [
    "train_df.shape, test_df.shape"
   ]
  },
  {
   "cell_type": "code",
   "execution_count": 7,
   "metadata": {
    "ExecuteTime": {
     "end_time": "2021-05-03T23:35:03.996116Z",
     "start_time": "2021-05-03T23:35:03.981221Z"
    }
   },
   "outputs": [
    {
     "data": {
      "text/html": [
       "<div>\n",
       "<style scoped>\n",
       "    .dataframe tbody tr th:only-of-type {\n",
       "        vertical-align: middle;\n",
       "    }\n",
       "\n",
       "    .dataframe tbody tr th {\n",
       "        vertical-align: top;\n",
       "    }\n",
       "\n",
       "    .dataframe thead th {\n",
       "        text-align: right;\n",
       "    }\n",
       "</style>\n",
       "<table border=\"1\" class=\"dataframe\">\n",
       "  <thead>\n",
       "    <tr style=\"text-align: right;\">\n",
       "      <th></th>\n",
       "      <th>sentence</th>\n",
       "      <th>language</th>\n",
       "    </tr>\n",
       "  </thead>\n",
       "  <tbody>\n",
       "    <tr>\n",
       "      <th>0</th>\n",
       "      <td>Pensez à la communication , le discours , les ...</td>\n",
       "      <td>fr</td>\n",
       "    </tr>\n",
       "    <tr>\n",
       "      <th>1</th>\n",
       "      <td>Můžete si ji pronajmout , vzít na splátky , ko...</td>\n",
       "      <td>cs</td>\n",
       "    </tr>\n",
       "    <tr>\n",
       "      <th>2</th>\n",
       "      <td>Každý starosta pochopil , že když mají tyto fo...</td>\n",
       "      <td>cs</td>\n",
       "    </tr>\n",
       "    <tr>\n",
       "      <th>3</th>\n",
       "      <td>Det är ytterligare bevis , men ändå — Jag krit...</td>\n",
       "      <td>sv</td>\n",
       "    </tr>\n",
       "    <tr>\n",
       "      <th>4</th>\n",
       "      <td>كان الأمر لا يصدق .</td>\n",
       "      <td>ar</td>\n",
       "    </tr>\n",
       "    <tr>\n",
       "      <th>5</th>\n",
       "      <td>Na primjer , pjesnik ga opisuje ovako .</td>\n",
       "      <td>hr</td>\n",
       "    </tr>\n",
       "    <tr>\n",
       "      <th>6</th>\n",
       "      <td>Semua rerumputan itu sekarang menutupi tanah s...</td>\n",
       "      <td>id</td>\n",
       "    </tr>\n",
       "    <tr>\n",
       "      <th>7</th>\n",
       "      <td>Det är en enorm utmaning för oss att göra det .</td>\n",
       "      <td>sv</td>\n",
       "    </tr>\n",
       "    <tr>\n",
       "      <th>8</th>\n",
       "      <td>Ono što ćete vidjeti - trebat ćete skočiti ovd...</td>\n",
       "      <td>hr</td>\n",
       "    </tr>\n",
       "    <tr>\n",
       "      <th>9</th>\n",
       "      <td>( Alqışlar ) Excel-dən istifadə etmişəm .</td>\n",
       "      <td>az</td>\n",
       "    </tr>\n",
       "    <tr>\n",
       "      <th>10</th>\n",
       "      <td>После увольнения я решил собрать своих друзей ...</td>\n",
       "      <td>ru</td>\n",
       "    </tr>\n",
       "    <tr>\n",
       "      <th>11</th>\n",
       "      <td>יכולתי בקלות למצוא את עצמי שם או ברחוב .</td>\n",
       "      <td>he</td>\n",
       "    </tr>\n",
       "    <tr>\n",
       "      <th>12</th>\n",
       "      <td>この過去の遺産と決別することが これまで以上に急務です 互いを深く隔てる社会的不平等を終わら...</td>\n",
       "      <td>ja</td>\n",
       "    </tr>\n",
       "    <tr>\n",
       "      <th>13</th>\n",
       "      <td>Ты знаешь , что это не гнев заставил моё сердц...</td>\n",
       "      <td>ru</td>\n",
       "    </tr>\n",
       "    <tr>\n",
       "      <th>14</th>\n",
       "      <td>Wie gehen wir so etwas also an ?</td>\n",
       "      <td>de</td>\n",
       "    </tr>\n",
       "  </tbody>\n",
       "</table>\n",
       "</div>"
      ],
      "text/plain": [
       "                                             sentence language\n",
       "0   Pensez à la communication , le discours , les ...       fr\n",
       "1   Můžete si ji pronajmout , vzít na splátky , ko...       cs\n",
       "2   Každý starosta pochopil , že když mají tyto fo...       cs\n",
       "3   Det är ytterligare bevis , men ändå — Jag krit...       sv\n",
       "4                                 كان الأمر لا يصدق .       ar\n",
       "5             Na primjer , pjesnik ga opisuje ovako .       hr\n",
       "6   Semua rerumputan itu sekarang menutupi tanah s...       id\n",
       "7     Det är en enorm utmaning för oss att göra det .       sv\n",
       "8   Ono što ćete vidjeti - trebat ćete skočiti ovd...       hr\n",
       "9           ( Alqışlar ) Excel-dən istifadə etmişəm .       az\n",
       "10  После увольнения я решил собрать своих друзей ...       ru\n",
       "11           יכולתי בקלות למצוא את עצמי שם או ברחוב .       he\n",
       "12  この過去の遺産と決別することが これまで以上に急務です 互いを深く隔てる社会的不平等を終わら...       ja\n",
       "13  Ты знаешь , что это не гнев заставил моё сердц...       ru\n",
       "14                   Wie gehen wir so etwas also an ?       de"
      ]
     },
     "execution_count": 7,
     "metadata": {},
     "output_type": "execute_result"
    }
   ],
   "source": [
    "train_df.head(15)"
   ]
  },
  {
   "cell_type": "code",
   "execution_count": 6,
   "metadata": {
    "ExecuteTime": {
     "end_time": "2021-05-05T09:29:22.888734Z",
     "start_time": "2021-05-05T09:29:22.708694Z"
    }
   },
   "outputs": [
    {
     "data": {
      "text/html": [
       "<div>\n",
       "<style scoped>\n",
       "    .dataframe tbody tr th:only-of-type {\n",
       "        vertical-align: middle;\n",
       "    }\n",
       "\n",
       "    .dataframe tbody tr th {\n",
       "        vertical-align: top;\n",
       "    }\n",
       "\n",
       "    .dataframe thead th {\n",
       "        text-align: right;\n",
       "    }\n",
       "</style>\n",
       "<table border=\"1\" class=\"dataframe\">\n",
       "  <thead>\n",
       "    <tr style=\"text-align: right;\">\n",
       "      <th></th>\n",
       "      <th>index</th>\n",
       "      <th>language</th>\n",
       "    </tr>\n",
       "  </thead>\n",
       "  <tbody>\n",
       "    <tr>\n",
       "      <th>0</th>\n",
       "      <td>ru</td>\n",
       "      <td>181970</td>\n",
       "    </tr>\n",
       "    <tr>\n",
       "      <th>1</th>\n",
       "      <td>en</td>\n",
       "      <td>157655</td>\n",
       "    </tr>\n",
       "    <tr>\n",
       "      <th>2</th>\n",
       "      <td>fr</td>\n",
       "      <td>148585</td>\n",
       "    </tr>\n",
       "    <tr>\n",
       "      <th>3</th>\n",
       "      <td>vi</td>\n",
       "      <td>113193</td>\n",
       "    </tr>\n",
       "    <tr>\n",
       "      <th>4</th>\n",
       "      <td>ar</td>\n",
       "      <td>110032</td>\n",
       "    </tr>\n",
       "  </tbody>\n",
       "</table>\n",
       "</div>"
      ],
      "text/plain": [
       "  index  language\n",
       "0    ru    181970\n",
       "1    en    157655\n",
       "2    fr    148585\n",
       "3    vi    113193\n",
       "4    ar    110032"
      ]
     },
     "execution_count": 6,
     "metadata": {},
     "output_type": "execute_result"
    }
   ],
   "source": [
    "lang_count = (\n",
    "    train_df.language.value_counts()\n",
    "    .to_frame()\n",
    "    .reset_index()\n",
    ")\n",
    "\n",
    "lang_count.head()"
   ]
  },
  {
   "cell_type": "code",
   "execution_count": 7,
   "metadata": {
    "ExecuteTime": {
     "end_time": "2021-05-05T09:29:26.488294Z",
     "start_time": "2021-05-05T09:29:25.788379Z"
    }
   },
   "outputs": [
    {
     "data": {
      "image/png": "[encoded data removed]",
      "text/plain": [
       "<Figure size 576x1800 with 1 Axes>"
      ]
     },
     "metadata": {},
     "output_type": "display_data"
    }
   ],
   "source": [
    "fig, ax = plt.subplots(figsize=(8,25))\n",
    "\n",
    "ax.barh(lang_count['index'], lang_count['language'])\n",
    "ax.invert_yaxis();"
   ]
  },
  {
   "cell_type": "code",
   "execution_count": 19,
   "metadata": {
    "ExecuteTime": {
     "end_time": "2021-05-03T13:33:18.124638Z",
     "start_time": "2021-05-03T13:33:18.117637Z"
    }
   },
   "outputs": [
    {
     "data": {
      "text/html": [
       "<div>\n",
       "<style scoped>\n",
       "    .dataframe tbody tr th:only-of-type {\n",
       "        vertical-align: middle;\n",
       "    }\n",
       "\n",
       "    .dataframe tbody tr th {\n",
       "        vertical-align: top;\n",
       "    }\n",
       "\n",
       "    .dataframe thead th {\n",
       "        text-align: right;\n",
       "    }\n",
       "</style>\n",
       "<table border=\"1\" class=\"dataframe\">\n",
       "  <thead>\n",
       "    <tr style=\"text-align: right;\">\n",
       "      <th></th>\n",
       "      <th>index</th>\n",
       "      <th>language</th>\n",
       "    </tr>\n",
       "  </thead>\n",
       "  <tbody>\n",
       "    <tr>\n",
       "      <th>1</th>\n",
       "      <td>en</td>\n",
       "      <td>157655</td>\n",
       "    </tr>\n",
       "    <tr>\n",
       "      <th>58</th>\n",
       "      <td>kk</td>\n",
       "      <td>2046</td>\n",
       "    </tr>\n",
       "  </tbody>\n",
       "</table>\n",
       "</div>"
      ],
      "text/plain": [
       "   index  language\n",
       "1     en    157655\n",
       "58    kk      2046"
      ]
     },
     "execution_count": 19,
     "metadata": {},
     "output_type": "execute_result"
    }
   ],
   "source": [
    "lang_count[lang_count['index'].apply(lambda x: x in {\"en\", \"kk\"})]"
   ]
  },
  {
   "cell_type": "code",
   "execution_count": null,
   "metadata": {},
   "outputs": [],
   "source": [
    "TOKEN_PATTERN = \"[а-яё]+\""
   ]
  },
  {
   "cell_type": "markdown",
   "metadata": {},
   "source": [
    "Датасет сильно не сбалансирован по классам, а требуется хорошее качество для всех языков, поэтому метрика в данном соревновании — взвешенная доля правильных ответов:\n",
    "\n",
    "$$ \n",
    "\\text{WeightedAccuracy}\\left(y, \\hat{y}, w\\right) = \\frac{\\displaystyle{\\sum_{i=1}^{n}} w_i \\cdot \\left(y_i == \\hat{y}_i\\right)}{\\displaystyle\\sum_{i=1}^{n} w_i } \n",
    "$$\n",
    "\n",
    "Веса выбирались обратно пропорционально количеству примеров соответствующего языка:\n",
    "$$\n",
    "w\\left(\\text{\"en\"}\\right) \\sim \\frac{1}{157655}\n",
    "$$\n",
    "$$ \\dots $$\n",
    "$$\n",
    "w\\left(\\text{\"kk\"}\\right) \\sim \\frac{1}{2046}\n",
    "$$\n",
    "\n",
    "Поэтому для валидации можно использовать [sklearn.metrics.balanced_accuracy_score](https://scikit-learn.org/stable/modules/model_evaluation.html#balanced-accuracy-score)"
   ]
  },
  {
   "cell_type": "markdown",
   "metadata": {},
   "source": [
    "# Model"
   ]
  },
  {
   "cell_type": "code",
   "execution_count": 20,
   "metadata": {
    "ExecuteTime": {
     "end_time": "2021-05-03T13:33:38.100083Z",
     "start_time": "2021-05-03T13:33:37.749668Z"
    }
   },
   "outputs": [],
   "source": [
    "x = train_df.values[:, 0]\n",
    "label_encoder = LabelEncoder().fit(train_df.values[:, 1])\n",
    "y = label_encoder.transform(train_df.values[:, 1])"
   ]
  },
  {
   "cell_type": "code",
   "execution_count": 21,
   "metadata": {
    "ExecuteTime": {
     "end_time": "2021-05-03T13:33:41.075685Z",
     "start_time": "2021-05-03T13:33:41.069547Z"
    }
   },
   "outputs": [],
   "source": [
    "pipe = Pipeline([\n",
    "    ('vectorizer', TfidfVectorizer()),\n",
    "    ('model', SGDClassifier(random_state=SEED, loss='log'))\n",
    "])"
   ]
  },
  {
   "cell_type": "code",
   "execution_count": 106,
   "metadata": {
    "ExecuteTime": {
     "end_time": "2021-05-03T19:29:21.666471Z",
     "start_time": "2021-05-03T19:29:21.658472Z"
    }
   },
   "outputs": [],
   "source": [
    "char_tfidf_model = Pipeline([\n",
    "    (\n",
    "        'vectorizer',\n",
    "        TfidfVectorizer(\n",
    "            lowercase=True, ngram_range=(2, 4), analyzer='char',  min_df=5, max_df=0.8\n",
    "        )\n",
    "    ),\n",
    "    ('clf', SGDClassifier(random_state=SEED, class_weight='balanced'))\n",
    "])"
   ]
  },
  {
   "cell_type": "code",
   "execution_count": 107,
   "metadata": {
    "ExecuteTime": {
     "end_time": "2021-05-03T19:36:18.424561Z",
     "start_time": "2021-05-03T19:29:29.194196Z"
    }
   },
   "outputs": [
    {
     "data": {
      "text/plain": [
       "Pipeline(steps=[('vectorizer', TfidfVectorizer()),\n",
       "                ('model', SGDClassifier(loss='log', random_state=42))])"
      ]
     },
     "execution_count": 107,
     "metadata": {},
     "output_type": "execute_result"
    }
   ],
   "source": [
    "pipe.fit(x, y)"
   ]
  },
  {
   "cell_type": "code",
   "execution_count": 108,
   "metadata": {
    "ExecuteTime": {
     "end_time": "2021-05-03T19:55:41.854352Z",
     "start_time": "2021-05-03T19:36:18.425562Z"
    }
   },
   "outputs": [
    {
     "data": {
      "text/plain": [
       "Pipeline(steps=[('vectorizer',\n",
       "                 TfidfVectorizer(analyzer='char', max_df=0.8, min_df=5,\n",
       "                                 ngram_range=(2, 4))),\n",
       "                ('clf',\n",
       "                 SGDClassifier(class_weight='balanced', random_state=42))])"
      ]
     },
     "execution_count": 108,
     "metadata": {},
     "output_type": "execute_result"
    }
   ],
   "source": [
    "char_tfidf_model.fit(x,y)"
   ]
  },
  {
   "cell_type": "code",
   "execution_count": 109,
   "metadata": {
    "ExecuteTime": {
     "end_time": "2021-05-03T20:03:41.502513Z",
     "start_time": "2021-05-03T19:55:41.862353Z"
    }
   },
   "outputs": [],
   "source": [
    "predictions = char_tfidf_model.predict(x)"
   ]
  },
  {
   "cell_type": "code",
   "execution_count": 111,
   "metadata": {
    "ExecuteTime": {
     "end_time": "2021-05-03T20:36:51.368235Z",
     "start_time": "2021-05-03T20:36:49.856110Z"
    }
   },
   "outputs": [
    {
     "data": {
      "text/plain": [
       "0.8983864162107623"
      ]
     },
     "execution_count": 111,
     "metadata": {},
     "output_type": "execute_result"
    }
   ],
   "source": [
    "balanced_accuracy_score(y, predictions)"
   ]
  },
  {
   "cell_type": "code",
   "execution_count": 132,
   "metadata": {
    "ExecuteTime": {
     "end_time": "2021-05-03T21:15:00.119834Z",
     "start_time": "2021-05-03T21:15:00.105831Z"
    }
   },
   "outputs": [],
   "source": [
    "failed = pd.DataFrame({'language': label_encoder.classes_[y[predictions!=y]]})"
   ]
  },
  {
   "cell_type": "code",
   "execution_count": 133,
   "metadata": {
    "ExecuteTime": {
     "end_time": "2021-05-03T21:15:00.707860Z",
     "start_time": "2021-05-03T21:15:00.689856Z"
    }
   },
   "outputs": [],
   "source": [
    "lang_count_failed = (\n",
    "    failed.language.value_counts()\n",
    "    .to_frame()\n",
    "    .reset_index()\n",
    ")\n",
    "lang_count_failed.head()"
   ]
  },
  {
   "cell_type": "code",
   "execution_count": 139,
   "metadata": {
    "ExecuteTime": {
     "end_time": "2021-05-03T21:21:13.152385Z",
     "start_time": "2021-05-03T21:21:02.978793Z"
    }
   },
   "outputs": [
    {
     "data": {
      "image/png": "[encoded data removed]",
      "text/plain": [
       "<Figure size 576x1800 with 1 Axes>"
      ]
     },
     "metadata": {},
     "output_type": "display_data"
    }
   ],
   "source": [
    "fig, ax = plt.subplots(figsize=(8,25))\n",
    "\n",
    "ax.barh(lang_count['index'], lang_count['language'])\n",
    "ax.barh(lang_count_failed['index'], lang_count_failed['language'])\n",
    "ax.invert_yaxis();"
   ]
  },
  {
   "cell_type": "code",
   "execution_count": 167,
   "metadata": {
    "ExecuteTime": {
     "end_time": "2021-05-03T21:57:27.706414Z",
     "start_time": "2021-05-03T21:57:27.683408Z"
    }
   },
   "outputs": [
    {
     "data": {
      "text/html": [
       "<div>\n",
       "<style scoped>\n",
       "    .dataframe tbody tr th:only-of-type {\n",
       "        vertical-align: middle;\n",
       "    }\n",
       "\n",
       "    .dataframe tbody tr th {\n",
       "        vertical-align: top;\n",
       "    }\n",
       "\n",
       "    .dataframe thead th {\n",
       "        text-align: right;\n",
       "    }\n",
       "</style>\n",
       "<table border=\"1\" class=\"dataframe\">\n",
       "  <thead>\n",
       "    <tr style=\"text-align: right;\">\n",
       "      <th></th>\n",
       "      <th>sentence</th>\n",
       "      <th>language</th>\n",
       "    </tr>\n",
       "  </thead>\n",
       "  <tbody>\n",
       "    <tr>\n",
       "      <th>56</th>\n",
       "      <td>Ali neke zemlje imaju čvršći stav o ovome od o...</td>\n",
       "      <td>sr</td>\n",
       "    </tr>\n",
       "    <tr>\n",
       "      <th>83</th>\n",
       "      <td>Tom Hanks : Salut , Houston , aici Odyssey .</td>\n",
       "      <td>ro</td>\n",
       "    </tr>\n",
       "    <tr>\n",
       "      <th>91</th>\n",
       "      <td>що це тому ми чи дуже які щоб дякую якщо було ...</td>\n",
       "      <td>ru</td>\n",
       "    </tr>\n",
       "    <tr>\n",
       "      <th>92</th>\n",
       "      <td>Na kraju se ispostavilo da ima puno pojava koj...</td>\n",
       "      <td>sr</td>\n",
       "    </tr>\n",
       "    <tr>\n",
       "      <th>96</th>\n",
       "      <td>En gang ? To gange ? 17 gange ?</td>\n",
       "      <td>da</td>\n",
       "    </tr>\n",
       "    <tr>\n",
       "      <th>...</th>\n",
       "      <td>...</td>\n",
       "      <td>...</td>\n",
       "    </tr>\n",
       "    <tr>\n",
       "      <th>3159570</th>\n",
       "      <td>棒透了 。</td>\n",
       "      <td>zh-tw</td>\n",
       "    </tr>\n",
       "    <tr>\n",
       "      <th>3159582</th>\n",
       "      <td>що це тому ми чи дуже які щоб дякую якщо було ...</td>\n",
       "      <td>ru</td>\n",
       "    </tr>\n",
       "    <tr>\n",
       "      <th>3159584</th>\n",
       "      <td>A Cheka foi o ídolo dos agentes da Stasi .</td>\n",
       "      <td>pt-br</td>\n",
       "    </tr>\n",
       "    <tr>\n",
       "      <th>3159619</th>\n",
       "      <td>що це тому ми чи дуже які щоб дякую якщо було ...</td>\n",
       "      <td>ru</td>\n",
       "    </tr>\n",
       "    <tr>\n",
       "      <th>3159632</th>\n",
       "      <td>La « Danse d ’ entrée du mariage JK » est deve...</td>\n",
       "      <td>fr-ca</td>\n",
       "    </tr>\n",
       "  </tbody>\n",
       "</table>\n",
       "<p>188250 rows × 2 columns</p>\n",
       "</div>"
      ],
      "text/plain": [
       "                                                  sentence language\n",
       "56       Ali neke zemlje imaju čvršći stav o ovome od o...       sr\n",
       "83            Tom Hanks : Salut , Houston , aici Odyssey .       ro\n",
       "91       що це тому ми чи дуже які щоб дякую якщо було ...       ru\n",
       "92       Na kraju se ispostavilo da ima puno pojava koj...       sr\n",
       "96                         En gang ? To gange ? 17 gange ?       da\n",
       "...                                                    ...      ...\n",
       "3159570                                              棒透了 。    zh-tw\n",
       "3159582  що це тому ми чи дуже які щоб дякую якщо було ...       ru\n",
       "3159584         A Cheka foi o ídolo dos agentes da Stasi .    pt-br\n",
       "3159619  що це тому ми чи дуже які щоб дякую якщо було ...       ru\n",
       "3159632  La « Danse d ’ entrée du mariage JK » est deve...    fr-ca\n",
       "\n",
       "[188250 rows x 2 columns]"
      ]
     },
     "execution_count": 167,
     "metadata": {},
     "output_type": "execute_result"
    }
   ],
   "source": [
    "train_df[predictions!=y]"
   ]
  },
  {
   "cell_type": "code",
   "execution_count": 168,
   "metadata": {
    "ExecuteTime": {
     "end_time": "2021-05-03T21:57:59.287407Z",
     "start_time": "2021-05-03T21:57:59.259401Z"
    }
   },
   "outputs": [],
   "source": [
    "failed_df = train_df[predictions!=y]"
   ]
  },
  {
   "cell_type": "code",
   "execution_count": 203,
   "metadata": {
    "ExecuteTime": {
     "end_time": "2021-05-03T22:19:35.089627Z",
     "start_time": "2021-05-03T22:19:35.073623Z"
    }
   },
   "outputs": [
    {
     "data": {
      "text/html": [
       "<div>\n",
       "<style scoped>\n",
       "    .dataframe tbody tr th:only-of-type {\n",
       "        vertical-align: middle;\n",
       "    }\n",
       "\n",
       "    .dataframe tbody tr th {\n",
       "        vertical-align: top;\n",
       "    }\n",
       "\n",
       "    .dataframe thead th {\n",
       "        text-align: right;\n",
       "    }\n",
       "</style>\n",
       "<table border=\"1\" class=\"dataframe\">\n",
       "  <thead>\n",
       "    <tr style=\"text-align: right;\">\n",
       "      <th></th>\n",
       "      <th>sentence</th>\n",
       "      <th>language</th>\n",
       "    </tr>\n",
       "  </thead>\n",
       "  <tbody>\n",
       "    <tr>\n",
       "      <th>91</th>\n",
       "      <td>що це тому ми чи дуже які щоб дякую якщо було ...</td>\n",
       "      <td>ru</td>\n",
       "    </tr>\n",
       "    <tr>\n",
       "      <th>305</th>\n",
       "      <td>що це тому ми чи дуже які щоб дякую якщо було ...</td>\n",
       "      <td>ru</td>\n",
       "    </tr>\n",
       "    <tr>\n",
       "      <th>348</th>\n",
       "      <td>Мне не хватает Майкла .</td>\n",
       "      <td>ru</td>\n",
       "    </tr>\n",
       "    <tr>\n",
       "      <th>857</th>\n",
       "      <td>що це тому ми чи дуже які щоб дякую якщо було ...</td>\n",
       "      <td>ru</td>\n",
       "    </tr>\n",
       "    <tr>\n",
       "      <th>980</th>\n",
       "      <td>що це тому ми чи дуже які щоб дякую якщо було ...</td>\n",
       "      <td>ru</td>\n",
       "    </tr>\n",
       "    <tr>\n",
       "      <th>...</th>\n",
       "      <td>...</td>\n",
       "      <td>...</td>\n",
       "    </tr>\n",
       "    <tr>\n",
       "      <th>3159332</th>\n",
       "      <td>що це тому ми чи дуже які щоб дякую якщо було ...</td>\n",
       "      <td>ru</td>\n",
       "    </tr>\n",
       "    <tr>\n",
       "      <th>3159462</th>\n",
       "      <td>Глагол - основа предложения .</td>\n",
       "      <td>ru</td>\n",
       "    </tr>\n",
       "    <tr>\n",
       "      <th>3159484</th>\n",
       "      <td>що це тому ми чи дуже які щоб дякую якщо було ...</td>\n",
       "      <td>ru</td>\n",
       "    </tr>\n",
       "    <tr>\n",
       "      <th>3159582</th>\n",
       "      <td>що це тому ми чи дуже які щоб дякую якщо було ...</td>\n",
       "      <td>ru</td>\n",
       "    </tr>\n",
       "    <tr>\n",
       "      <th>3159619</th>\n",
       "      <td>що це тому ми чи дуже які щоб дякую якщо було ...</td>\n",
       "      <td>ru</td>\n",
       "    </tr>\n",
       "  </tbody>\n",
       "</table>\n",
       "<p>27256 rows × 2 columns</p>\n",
       "</div>"
      ],
      "text/plain": [
       "                                                  sentence language\n",
       "91       що це тому ми чи дуже які щоб дякую якщо було ...       ru\n",
       "305      що це тому ми чи дуже які щоб дякую якщо було ...       ru\n",
       "348                                Мне не хватает Майкла .       ru\n",
       "857      що це тому ми чи дуже які щоб дякую якщо було ...       ru\n",
       "980      що це тому ми чи дуже які щоб дякую якщо було ...       ru\n",
       "...                                                    ...      ...\n",
       "3159332  що це тому ми чи дуже які щоб дякую якщо було ...       ru\n",
       "3159462                      Глагол - основа предложения .       ru\n",
       "3159484  що це тому ми чи дуже які щоб дякую якщо було ...       ru\n",
       "3159582  що це тому ми чи дуже які щоб дякую якщо було ...       ru\n",
       "3159619  що це тому ми чи дуже які щоб дякую якщо було ...       ru\n",
       "\n",
       "[27256 rows x 2 columns]"
      ]
     },
     "execution_count": 203,
     "metadata": {},
     "output_type": "execute_result"
    }
   ],
   "source": [
    "failed_df.loc[failed_df.language=='ru']"
   ]
  },
  {
   "cell_type": "code",
   "execution_count": 8,
   "metadata": {
    "ExecuteTime": {
     "end_time": "2021-05-03T23:35:42.834795Z",
     "start_time": "2021-05-03T23:35:40.920363Z"
    }
   },
   "outputs": [
    {
     "data": {
      "text/html": [
       "<div>\n",
       "<style scoped>\n",
       "    .dataframe tbody tr th:only-of-type {\n",
       "        vertical-align: middle;\n",
       "    }\n",
       "\n",
       "    .dataframe tbody tr th {\n",
       "        vertical-align: top;\n",
       "    }\n",
       "\n",
       "    .dataframe thead th {\n",
       "        text-align: right;\n",
       "    }\n",
       "</style>\n",
       "<table border=\"1\" class=\"dataframe\">\n",
       "  <thead>\n",
       "    <tr style=\"text-align: right;\">\n",
       "      <th></th>\n",
       "      <th>index</th>\n",
       "      <th>sentence</th>\n",
       "    </tr>\n",
       "  </thead>\n",
       "  <tbody>\n",
       "    <tr>\n",
       "      <th>0</th>\n",
       "      <td>що це тому ми чи дуже які щоб дякую якщо було ...</td>\n",
       "      <td>75000</td>\n",
       "    </tr>\n",
       "    <tr>\n",
       "      <th>1</th>\n",
       "      <td>the and of it that you to apos we this is in t...</td>\n",
       "      <td>50000</td>\n",
       "    </tr>\n",
       "    <tr>\n",
       "      <th>2</th>\n",
       "      <td>що це ми не як на вони та але ви до про він оп...</td>\n",
       "      <td>50000</td>\n",
       "    </tr>\n",
       "    <tr>\n",
       "      <th>3</th>\n",
       "      <td>гэта што калі мы не яны як але ён каб дзякуй б...</td>\n",
       "      <td>50000</td>\n",
       "    </tr>\n",
       "    <tr>\n",
       "      <th>4</th>\n",
       "      <td>это что мы не как на вы они но из то он так дл...</td>\n",
       "      <td>50000</td>\n",
       "    </tr>\n",
       "  </tbody>\n",
       "</table>\n",
       "</div>"
      ],
      "text/plain": [
       "                                               index  sentence\n",
       "0  що це тому ми чи дуже які щоб дякую якщо було ...     75000\n",
       "1  the and of it that you to apos we this is in t...     50000\n",
       "2  що це ми не як на вони та але ви до про він оп...     50000\n",
       "3  гэта што калі мы не яны як але ён каб дзякуй б...     50000\n",
       "4  это что мы не как на вы они но из то он так дл...     50000"
      ]
     },
     "execution_count": 8,
     "metadata": {},
     "output_type": "execute_result"
    }
   ],
   "source": [
    "trash = train_df.sentence.value_counts().to_frame().reset_index()\n",
    "trash.head()"
   ]
  },
  {
   "cell_type": "code",
   "execution_count": 9,
   "metadata": {
    "ExecuteTime": {
     "end_time": "2021-05-03T23:35:44.813369Z",
     "start_time": "2021-05-03T23:35:44.784363Z"
    }
   },
   "outputs": [],
   "source": [
    "trash = trash.loc[trash.sentence>1]"
   ]
  },
  {
   "cell_type": "code",
   "execution_count": 5,
   "metadata": {
    "ExecuteTime": {
     "end_time": "2021-05-05T11:28:57.530481Z",
     "start_time": "2021-05-05T11:28:55.127312Z"
    }
   },
   "outputs": [],
   "source": [
    "df_clean = train_df.drop_duplicates(subset=['sentence'], keep=False)"
   ]
  },
  {
   "cell_type": "code",
   "execution_count": 6,
   "metadata": {
    "ExecuteTime": {
     "end_time": "2021-05-04T12:54:38.108584Z",
     "start_time": "2021-05-04T12:54:37.792392Z"
    }
   },
   "outputs": [],
   "source": [
    "x_clean = df_clean.values[:, 0]\n",
    "label_encoder = LabelEncoder().fit(df_clean.values[:, 1])\n",
    "y_clean = label_encoder.transform(df_clean.values[:, 1])"
   ]
  },
  {
   "cell_type": "code",
   "execution_count": 12,
   "metadata": {
    "ExecuteTime": {
     "end_time": "2021-05-03T23:35:50.507339Z",
     "start_time": "2021-05-03T23:35:50.503338Z"
    }
   },
   "outputs": [],
   "source": [
    "model = Pipeline([\n",
    "    (\n",
    "        'vectorizer',\n",
    "        TfidfVectorizer(\n",
    "            lowercase=True, ngram_range=(2, 10), analyzer='char',  min_df=5, max_df=0.8\n",
    "        )\n",
    "    ),\n",
    "    ('clf', SGDClassifier(random_state=SEED, class_weight='balanced'))\n",
    "])"
   ]
  },
  {
   "cell_type": "code",
   "execution_count": 13,
   "metadata": {
    "ExecuteTime": {
     "end_time": "2021-05-03T23:53:10.439832Z",
     "start_time": "2021-05-03T23:35:53.951437Z"
    }
   },
   "outputs": [
    {
     "data": {
      "text/plain": [
       "Pipeline(steps=[('vectorizer',\n",
       "                 TfidfVectorizer(analyzer='char', max_df=0.8, min_df=5,\n",
       "                                 ngram_range=(2, 4))),\n",
       "                ('clf',\n",
       "                 SGDClassifier(class_weight='balanced', random_state=42))])"
      ]
     },
     "execution_count": 13,
     "metadata": {},
     "output_type": "execute_result"
    }
   ],
   "source": [
    "model.fit(x_clean, y_clean)"
   ]
  },
  {
   "cell_type": "code",
   "execution_count": 14,
   "metadata": {
    "ExecuteTime": {
     "end_time": "2021-05-04T00:00:23.159974Z",
     "start_time": "2021-05-03T23:53:10.448834Z"
    }
   },
   "outputs": [
    {
     "data": {
      "text/plain": [
       "0.9093139839157018"
      ]
     },
     "execution_count": 14,
     "metadata": {},
     "output_type": "execute_result"
    }
   ],
   "source": [
    "predictions = model.predict(x_clean)\n",
    "balanced_accuracy_score(y_clean, predictions)"
   ]
  },
  {
   "cell_type": "code",
   "execution_count": 15,
   "metadata": {
    "ExecuteTime": {
     "end_time": "2021-05-04T00:00:24.532902Z",
     "start_time": "2021-05-04T00:00:23.167559Z"
    }
   },
   "outputs": [
    {
     "data": {
      "image/png": "[encoded data removed]",
      "text/plain": [
       "<Figure size 576x1800 with 1 Axes>"
      ]
     },
     "metadata": {},
     "output_type": "display_data"
    }
   ],
   "source": [
    "lang_count = (\n",
    "    df_clean.language.value_counts()\n",
    "    .to_frame()\n",
    "    .reset_index()\n",
    ")\n",
    "\n",
    "failed = pd.DataFrame({'language': label_encoder.classes_[y_clean[predictions!=y_clean]]})\n",
    "\n",
    "lang_count_failed = (\n",
    "    failed.language.value_counts()\n",
    "    .to_frame()\n",
    "    .reset_index()\n",
    ")\n",
    "\n",
    "fig, ax = plt.subplots(figsize=(8,25))\n",
    "\n",
    "ax.barh(lang_count['index'], lang_count['language'])\n",
    "ax.barh(lang_count_failed['index'], lang_count_failed['language'])\n",
    "ax.invert_yaxis();"
   ]
  },
  {
   "cell_type": "code",
   "execution_count": null,
   "metadata": {},
   "outputs": [],
   "source": []
  },
  {
   "cell_type": "code",
   "execution_count": null,
   "metadata": {},
   "outputs": [],
   "source": []
  },
  {
   "cell_type": "markdown",
   "metadata": {},
   "source": [
    "# Submit"
   ]
  },
  {
   "cell_type": "code",
   "execution_count": 16,
   "metadata": {
    "ExecuteTime": {
     "end_time": "2021-05-04T00:15:31.064597Z",
     "start_time": "2021-05-04T00:08:26.242016Z"
    }
   },
   "outputs": [],
   "source": [
    "submit_predictions = model.predict(test_df.sentence.values)"
   ]
  },
  {
   "cell_type": "code",
   "execution_count": 17,
   "metadata": {
    "ExecuteTime": {
     "end_time": "2021-05-04T00:15:31.207629Z",
     "start_time": "2021-05-04T00:15:31.083600Z"
    }
   },
   "outputs": [
    {
     "data": {
      "text/html": [
       "<div>\n",
       "<style scoped>\n",
       "    .dataframe tbody tr th:only-of-type {\n",
       "        vertical-align: middle;\n",
       "    }\n",
       "\n",
       "    .dataframe tbody tr th {\n",
       "        vertical-align: top;\n",
       "    }\n",
       "\n",
       "    .dataframe thead th {\n",
       "        text-align: right;\n",
       "    }\n",
       "</style>\n",
       "<table border=\"1\" class=\"dataframe\">\n",
       "  <thead>\n",
       "    <tr style=\"text-align: right;\">\n",
       "      <th></th>\n",
       "      <th>index</th>\n",
       "      <th>sentence</th>\n",
       "      <th>language</th>\n",
       "    </tr>\n",
       "  </thead>\n",
       "  <tbody>\n",
       "    <tr>\n",
       "      <th>0</th>\n",
       "      <td>0</td>\n",
       "      <td>תודה לכם .</td>\n",
       "      <td>he</td>\n",
       "    </tr>\n",
       "    <tr>\n",
       "      <th>1</th>\n",
       "      <td>1</td>\n",
       "      <td>Precisamos de compaixão para começar , e auto-...</td>\n",
       "      <td>pt-br</td>\n",
       "    </tr>\n",
       "    <tr>\n",
       "      <th>2</th>\n",
       "      <td>2</td>\n",
       "      <td>這個增長相當大 ， 並且它將引發經濟的增長 。</td>\n",
       "      <td>zh-tw</td>\n",
       "    </tr>\n",
       "    <tr>\n",
       "      <th>3</th>\n",
       "      <td>3</td>\n",
       "      <td>시애틀에서 자란 제가 처음 가난을 보게 되던 때를 기억해요 .</td>\n",
       "      <td>ko</td>\n",
       "    </tr>\n",
       "    <tr>\n",
       "      <th>4</th>\n",
       "      <td>4</td>\n",
       "      <td>これをロボットに組み込みました</td>\n",
       "      <td>ja</td>\n",
       "    </tr>\n",
       "  </tbody>\n",
       "</table>\n",
       "</div>"
      ],
      "text/plain": [
       "   index                                           sentence language\n",
       "0      0                                         תודה לכם .       he\n",
       "1      1  Precisamos de compaixão para começar , e auto-...    pt-br\n",
       "2      2                            這個增長相當大 ， 並且它將引發經濟的增長 。    zh-tw\n",
       "3      3                 시애틀에서 자란 제가 처음 가난을 보게 되던 때를 기억해요 .       ko\n",
       "4      4                                    これをロボットに組み込みました       ja"
      ]
     },
     "execution_count": 17,
     "metadata": {},
     "output_type": "execute_result"
    }
   ],
   "source": [
    "test_df['language'] = label_encoder.classes_[submit_predictions]\n",
    "\n",
    "test_df.head()"
   ]
  },
  {
   "cell_type": "code",
   "execution_count": 18,
   "metadata": {
    "ExecuteTime": {
     "end_time": "2021-05-04T00:15:35.623179Z",
     "start_time": "2021-05-04T00:15:31.209629Z"
    }
   },
   "outputs": [],
   "source": [
    "(\n",
    "    test_df[['index', 'language']]\n",
    "    .to_csv(f'{DATA_PATH}/sample_submission.csv', index=False)\n",
    ")"
   ]
  },
  {
   "cell_type": "code",
   "execution_count": 89,
   "metadata": {
    "ExecuteTime": {
     "end_time": "2021-05-03T16:28:03.816650Z",
     "start_time": "2021-05-03T16:28:03.723463Z"
    }
   },
   "outputs": [
    {
     "name": "stderr",
     "output_type": "stream",
     "text": [
      "\"head\" ­Ґ пў«пҐвбп ў­гваҐ­­Ґ© Ё«Ё ў­Ґи­Ґ©\n",
      "Є®¬ ­¤®©, ЁбЇ®«­пҐ¬®© Їа®Ја ¬¬®© Ё«Ё Ї ЄҐв­л¬ д ©«®¬.\n"
     ]
    }
   ],
   "source": [
    "!head $DATA_PATH/sample_submission.csv"
   ]
  },
  {
   "cell_type": "markdown",
   "metadata": {},
   "source": [
    "# Homework\n",
    "\n",
    "- выбить хороший score на private leaderboard'е (8 баллов)\n",
    "- совет: поищите ошибки в train-части датасета"
   ]
  },
  {
   "cell_type": "code",
   "execution_count": 1,
   "metadata": {
    "ExecuteTime": {
     "end_time": "2021-05-05T13:02:41.975611Z",
     "start_time": "2021-05-05T13:02:29.151605Z"
    }
   },
   "outputs": [
    {
     "name": "stdout",
     "output_type": "stream",
     "text": [
      "Example:\n",
      "LANG = fr\n",
      "TEXT = Pensez à la communication , le discours , les gestes , écrire , le langage des signes , ils sont tous faits par l&apos; intermédiaire de contractions musculaires .\n"
     ]
    }
   ],
   "source": [
    "import random\n",
    "import numpy as np \n",
    "import pandas as pd \n",
    "import matplotlib.pyplot as plt\n",
    "plt.style.use('ggplot')\n",
    "\n",
    "import torch \n",
    "import torch.nn.functional as F\n",
    "import time\n",
    "import tqdm\n",
    "\n",
    "\n",
    "seed = 1111\n",
    "random.seed(seed)\n",
    "np.random.RandomState(seed)\n",
    "torch.manual_seed(seed)\n",
    "\n",
    "DATA_PATH = './data/competition_data'\n",
    "train_df = pd.read_csv(f'{DATA_PATH}/train.csv')\n",
    "test_df = pd.read_csv(f'{DATA_PATH}/test.csv')\n",
    "df_clean = train_df.drop_duplicates(subset=['sentence'], keep=False)\n",
    "df = df_clean.copy()\n",
    "\n",
    "x_full = pd.concat([df['sentence'], test_df['sentence']], axis=0)\n",
    "x_train_full = df['sentence']\n",
    "y_train_full = df['language']\n",
    "print('Example:')\n",
    "print('LANG =', y_train_full[0])\n",
    "print('TEXT =', x_train_full[0])"
   ]
  },
  {
   "cell_type": "code",
   "execution_count": 2,
   "metadata": {
    "ExecuteTime": {
     "end_time": "2021-05-05T13:02:43.604072Z",
     "start_time": "2021-05-05T13:02:43.599071Z"
    }
   },
   "outputs": [],
   "source": [
    "class Dictionary(object):\n",
    "    def __init__(self):\n",
    "        self.token2idx = {}\n",
    "        self.idx2token = []\n",
    "\n",
    "    def add_token(self, token):\n",
    "        if token not in self.token2idx:\n",
    "            self.idx2token.append(token)\n",
    "            self.token2idx[token] = len(self.idx2token) - 1\n",
    "        return self.token2idx[token]\n",
    "\n",
    "    def __len__(self):\n",
    "        return len(self.idx2token)"
   ]
  },
  {
   "cell_type": "code",
   "execution_count": 3,
   "metadata": {
    "ExecuteTime": {
     "end_time": "2021-05-05T13:02:56.092954Z",
     "start_time": "2021-05-05T13:02:45.798915Z"
    }
   },
   "outputs": [
    {
     "name": "stdout",
     "output_type": "stream",
     "text": [
      "Vocabulary: 10813 UTF characters\n",
      "Labels: 59 languages\n"
     ]
    }
   ],
   "source": [
    "char_vocab = Dictionary()\n",
    "pad_token = '<pad>' # reserve index 0 for padding\n",
    "unk_token = '<unk>' # reserve index 1 for unknown token\n",
    "pad_index = char_vocab.add_token(pad_token)\n",
    "unk_index = char_vocab.add_token(unk_token)\n",
    "\n",
    "# join all the training sentences in a single string\n",
    "# and obtain the list of different characters with set\n",
    "chars = set(''.join(x_full))\n",
    "for char in sorted(chars):\n",
    "    char_vocab.add_token(char)\n",
    "print(\"Vocabulary:\", len(char_vocab), \"UTF characters\")\n",
    "\n",
    "lang_vocab = Dictionary()\n",
    "# use python set to obtain the list of languages without repetitions\n",
    "languages = set(y_train_full)\n",
    "for lang in sorted(languages):\n",
    "    lang_vocab.add_token(lang)\n",
    "print(\"Labels:\", len(lang_vocab), \"languages\")"
   ]
  },
  {
   "cell_type": "code",
   "execution_count": 4,
   "metadata": {
    "ExecuteTime": {
     "end_time": "2021-05-05T13:03:25.903021Z",
     "start_time": "2021-05-05T13:02:56.093954Z"
    }
   },
   "outputs": [
    {
     "name": "stdout",
     "output_type": "stream",
     "text": [
      "k -> 72\n",
      "fr -> 17\n",
      "fr Pensez à l\n",
      "17 [ 47  66  75  80  66  87   2 172   2  73]\n"
     ]
    }
   ],
   "source": [
    "#From token or label to index\n",
    "print('k ->', char_vocab.token2idx['k'])\n",
    "print('fr ->', lang_vocab.token2idx['fr'])\n",
    "print(y_train_full[0], x_train_full[0][:10])\n",
    "x_train_idx = [np.array([char_vocab.token2idx[c] for c in line]) for line in x_train_full]\n",
    "y_train_idx = np.array([lang_vocab.token2idx[lang] for lang in y_train_full])\n",
    "print(y_train_idx[0], x_train_idx[0][:10])"
   ]
  },
  {
   "cell_type": "code",
   "execution_count": 5,
   "metadata": {
    "ExecuteTime": {
     "end_time": "2021-05-05T13:03:28.069802Z",
     "start_time": "2021-05-05T13:03:25.904316Z"
    }
   },
   "outputs": [
    {
     "name": "stdout",
     "output_type": "stream",
     "text": [
      "2184318 training samples\n",
      "546080 validation samples\n"
     ]
    }
   ],
   "source": [
    "from sklearn.model_selection import train_test_split\n",
    "x_train, x_val, y_train, y_val = train_test_split(x_train_idx, y_train_idx, test_size=0.2, random_state=42, shuffle=True)\n",
    "train_data = [(x, y) for x, y in zip(x_train, y_train)]\n",
    "val_data = [(x, y) for x, y in zip(x_val, y_val)]\n",
    "print(len(train_data), \"training samples\")\n",
    "print(len(val_data), \"validation samples\")"
   ]
  },
  {
   "cell_type": "code",
   "execution_count": 6,
   "metadata": {
    "ExecuteTime": {
     "end_time": "2021-05-05T13:03:28.084808Z",
     "start_time": "2021-05-05T13:03:28.070802Z"
    }
   },
   "outputs": [],
   "source": [
    "def batch_generator(data, batch_size, token_size):\n",
    "    \"\"\"Yield elements from data in chunks with a maximum of batch_size sequences and token_size tokens.\"\"\"\n",
    "    minibatch, sequences_so_far, tokens_so_far = [], 0, 0\n",
    "    for ex in data:\n",
    "        seq_len = len(ex[0])\n",
    "        if seq_len > token_size:\n",
    "            ex = (ex[0][:token_size], ex[1])\n",
    "            seq_len = token_size\n",
    "        minibatch.append(ex)\n",
    "        sequences_so_far += 1\n",
    "        tokens_so_far += seq_len\n",
    "        if sequences_so_far == batch_size or tokens_so_far == token_size:\n",
    "            yield minibatch\n",
    "            minibatch, sequences_so_far, tokens_so_far = [], 0, 0\n",
    "        elif sequences_so_far > batch_size or tokens_so_far > token_size:\n",
    "            yield minibatch[:-1]\n",
    "            minibatch, sequences_so_far, tokens_so_far = minibatch[-1:], 1, len(minibatch[-1][0])\n",
    "    if minibatch:\n",
    "        yield minibatch"
   ]
  },
  {
   "cell_type": "code",
   "execution_count": 7,
   "metadata": {
    "ExecuteTime": {
     "end_time": "2021-05-05T13:03:30.112027Z",
     "start_time": "2021-05-05T13:03:30.098025Z"
    }
   },
   "outputs": [],
   "source": [
    "def pool_generator(data, batch_size, token_size, shuffle=False):\n",
    "    \"\"\"Sort within buckets, then batch, then shuffle batches.\n",
    "    Partitions data into chunks of size 100*token_size, sorts examples within\n",
    "    each chunk, then batch these examples and shuffle the batches.\n",
    "    \"\"\"\n",
    "    for p in batch_generator(data, batch_size * 100, token_size * 100):\n",
    "        p_batch = batch_generator(sorted(p, key=lambda t: len(t[0]), reverse=True), batch_size, token_size)\n",
    "        p_list = list(p_batch)\n",
    "        if shuffle:\n",
    "            for b in random.sample(p_list, len(p_list)):\n",
    "                yield b\n",
    "        else:\n",
    "            for b in p_list:\n",
    "                yield b"
   ]
  },
  {
   "cell_type": "code",
   "execution_count": 8,
   "metadata": {
    "ExecuteTime": {
     "end_time": "2021-05-05T13:03:31.896976Z",
     "start_time": "2021-05-05T13:03:31.886973Z"
    }
   },
   "outputs": [],
   "source": [
    "class CharRNNClassifier(torch.nn.Module):\n",
    "\n",
    "    def __init__(self, input_size, embedding_size, hidden_size, output_size, model=\"lstm\", num_layers=1, bidirectional=False, pad_idx=0):\n",
    "        super().__init__()\n",
    "        self.model = model.lower()\n",
    "        self.hidden_size = hidden_size\n",
    "        self.embed = torch.nn.Embedding(input_size, embedding_size, padding_idx=pad_idx)\n",
    "        if self.model == \"gru\":\n",
    "            self.rnn = torch.nn.GRU(embedding_size, hidden_size, num_layers, bidirectional=bidirectional)\n",
    "        elif self.model == \"lstm\":\n",
    "            self.rnn = torch.nn.LSTM(embedding_size, hidden_size, num_layers, bidirectional=bidirectional)\n",
    "        self.h2o = torch.nn.Linear(hidden_size, output_size)\n",
    "        \n",
    "    def forward(self, input, input_lengths):\n",
    "        # T x B\n",
    "        encoded = self.embed(input)\n",
    "        # T x B x E\n",
    "        packed = torch.nn.utils.rnn.pack_padded_sequence(encoded, input_lengths)\n",
    "        # Packed T x B x E\n",
    "        output, _ = self.rnn(packed)\n",
    "        # Packed T x B x H\n",
    "        # Important: you may need to replace '-inf' with the default zero padding for other pooling layers\n",
    "        padded, _ = torch.nn.utils.rnn.pad_packed_sequence(output, padding_value=float('-inf'))\n",
    "        # T x B x H\n",
    "        output, _ = padded.max(dim=0)\n",
    "        # B x H\n",
    "        output = self.h2o(output)\n",
    "        # B x O\n",
    "        return output"
   ]
  },
  {
   "cell_type": "code",
   "execution_count": 9,
   "metadata": {
    "ExecuteTime": {
     "end_time": "2021-05-05T13:03:33.637028Z",
     "start_time": "2021-05-05T13:03:33.582333Z"
    }
   },
   "outputs": [],
   "source": [
    "if not torch.cuda.is_available():\n",
    "    print(\"WARNING: CUDA is not available. Select 'GPU On' on kernel settings\")\n",
    "device = torch.device(\"cuda\")\n",
    "torch.cuda.manual_seed(seed)"
   ]
  },
  {
   "cell_type": "code",
   "execution_count": 10,
   "metadata": {
    "ExecuteTime": {
     "end_time": "2021-05-05T13:03:35.181921Z",
     "start_time": "2021-05-05T13:03:35.174920Z"
    }
   },
   "outputs": [],
   "source": [
    "criterion = torch.nn.CrossEntropyLoss(reduction='sum')"
   ]
  },
  {
   "cell_type": "code",
   "execution_count": 11,
   "metadata": {
    "ExecuteTime": {
     "end_time": "2021-05-05T13:03:35.683942Z",
     "start_time": "2021-05-05T13:03:35.678941Z"
    }
   },
   "outputs": [],
   "source": [
    "def train(model, optimizer, data, batch_size, token_size, max_norm=1, log=False):\n",
    "    model.train()\n",
    "    total_loss = 0\n",
    "    ncorrect = 0\n",
    "    nsentences = 0\n",
    "    ntokens = 0\n",
    "    niterations = 0\n",
    "    for batch in pool_generator(data, batch_size, token_size, shuffle=True):\n",
    "        # Get input and target sequences from batch\n",
    "        X = [torch.from_numpy(d[0]) for d in batch]\n",
    "        X_lengths = [x.numel() for x in X]\n",
    "        ntokens += sum(X_lengths)\n",
    "        X_lengths = torch.tensor(X_lengths, dtype=torch.long)\n",
    "        y = torch.tensor([d[1] for d in batch], dtype=torch.long, device=device)\n",
    "        # Pad the input sequences to create a matrix\n",
    "        X = torch.nn.utils.rnn.pad_sequence(X).to(device)\n",
    "        model.zero_grad()\n",
    "        output = model(X, X_lengths)\n",
    "        loss = criterion(output, y)\n",
    "        loss.backward()\n",
    "        torch.nn.utils.clip_grad_norm_(model.parameters(), max_norm)    \n",
    "        optimizer.step()\n",
    "        # Training statistics\n",
    "        total_loss += loss.item()\n",
    "        ncorrect += (torch.max(output, 1)[1] == y).sum().item()\n",
    "        nsentences += y.numel()\n",
    "        niterations += 1\n",
    "    \n",
    "    total_loss = total_loss / nsentences\n",
    "    accuracy = 100 * ncorrect / nsentences\n",
    "    if log:\n",
    "        print(f'Train: wpb={ntokens//niterations}, bsz={nsentences//niterations}, num_updates={niterations}')\n",
    "    return accuracy"
   ]
  },
  {
   "cell_type": "code",
   "execution_count": 12,
   "metadata": {
    "ExecuteTime": {
     "end_time": "2021-05-05T13:03:38.309522Z",
     "start_time": "2021-05-05T13:03:38.294519Z"
    }
   },
   "outputs": [],
   "source": [
    "def validate(model, data, batch_size, token_size):\n",
    "    model.eval()\n",
    "    # calculate accuracy on validation set\n",
    "    ncorrect = 0\n",
    "    nsentences = 0\n",
    "    with torch.no_grad():\n",
    "        for batch in pool_generator(data, batch_size, token_size):\n",
    "            # Get input and target sequences from batch\n",
    "            X = [torch.from_numpy(d[0]) for d in batch]\n",
    "            X_lengths = torch.tensor([x.numel() for x in X], dtype=torch.long)\n",
    "            y = torch.tensor([d[1] for d in batch], dtype=torch.long, device=device)\n",
    "            # Pad the input sequences to create a matrix\n",
    "            X = torch.nn.utils.rnn.pad_sequence(X).to(device)\n",
    "            answer = model(X, X_lengths)\n",
    "            ncorrect += (torch.max(answer, 1)[1] == y).sum().item()\n",
    "            nsentences += y.numel()\n",
    "        dev_acc = 100 * ncorrect / nsentences\n",
    "    return dev_acc"
   ]
  },
  {
   "cell_type": "code",
   "execution_count": 13,
   "metadata": {
    "ExecuteTime": {
     "end_time": "2021-05-05T13:03:39.903545Z",
     "start_time": "2021-05-05T13:03:39.886542Z"
    }
   },
   "outputs": [],
   "source": [
    "hidden_size = 300\n",
    "embedding_size = 64\n",
    "bidirectional = False\n",
    "ntokens = len(char_vocab)\n",
    "nlabels = len(lang_vocab)"
   ]
  },
  {
   "cell_type": "code",
   "execution_count": 14,
   "metadata": {
    "ExecuteTime": {
     "end_time": "2021-05-05T13:03:42.701932Z",
     "start_time": "2021-05-05T13:03:42.685929Z"
    }
   },
   "outputs": [],
   "source": [
    "def get_model():\n",
    "    model = CharRNNClassifier(ntokens, embedding_size, hidden_size, nlabels, bidirectional=bidirectional, pad_idx=pad_index).to(device)\n",
    "    optimizer = torch.optim.Adam(model.parameters())\n",
    "    return model, optimizer"
   ]
  },
  {
   "cell_type": "code",
   "execution_count": 16,
   "metadata": {
    "ExecuteTime": {
     "end_time": "2021-05-05T14:43:06.563406Z",
     "start_time": "2021-05-05T13:15:23.446671Z"
    }
   },
   "outputs": [
    {
     "name": "stdout",
     "output_type": "stream",
     "text": [
      "Training cross-validation model for 20 epochs\n",
      "Train: wpb=27341, bsz=299, num_updates=9102\n",
      "| epoch 001 | train accuracy=94.5% (270s)\n",
      "| epoch 002 | train accuracy=97.4% (539s)\n",
      "| epoch 003 | train accuracy=97.7% (809s)\n",
      "| epoch 004 | train accuracy=97.9% (1079s)\n",
      "| epoch 005 | train accuracy=98.0% (1349s)\n",
      "| epoch 006 | train accuracy=98.2% (1618s)\n",
      "| epoch 007 | train accuracy=98.2% (1885s)\n",
      "| epoch 008 | train accuracy=98.3% (2145s)\n",
      "| epoch 009 | train accuracy=98.4% (2404s)\n",
      "| epoch 010 | train accuracy=98.4% (2664s)\n",
      "| epoch 011 | train accuracy=98.4% (2923s)\n",
      "| epoch 012 | train accuracy=98.5% (3182s)\n",
      "| epoch 013 | train accuracy=98.5% (3441s)\n",
      "| epoch 014 | train accuracy=98.5% (3701s)\n",
      "| epoch 015 | train accuracy=98.6% (3960s)\n",
      "| epoch 016 | train accuracy=98.6% (4219s)\n",
      "| epoch 017 | train accuracy=98.6% (4479s)\n",
      "| epoch 018 | train accuracy=98.6% (4738s)\n",
      "| epoch 019 | train accuracy=98.6% (4997s)\n",
      "| epoch 020 | train accuracy=98.6% (5263s)\n"
     ]
    }
   ],
   "source": [
    "# Пробуем обучать на всей дате без валидации\n",
    "train_data = [(x, y) for x, y in zip(x_train_idx, y_train_idx)]\n",
    "\n",
    "batch_size, token_size = 300, 200000\n",
    "epochs = 20\n",
    "train_accuracy = []\n",
    "valid_accuracy = []\n",
    "model, optimizer = get_model()\n",
    "print(f'Training cross-validation model for {epochs} epochs')\n",
    "t0 = time.time()\n",
    "for epoch in range(1, epochs + 1):\n",
    "    acc = train(model, optimizer, train_data, batch_size, token_size, log=epoch==1)\n",
    "    train_accuracy.append(acc)\n",
    "    print(f'| epoch {epoch:03d} | train accuracy={acc:.1f}% ({time.time() - t0:.0f}s)')\n",
    "#     acc = validate(model, val_data, batch_size, token_size)\n",
    "#     valid_accuracy.append(acc)\n",
    "#     print(f'| epoch {epoch:03d} | valid accuracy={acc:.1f}%')"
   ]
  },
  {
   "cell_type": "code",
   "execution_count": null,
   "metadata": {},
   "outputs": [],
   "source": []
  },
  {
   "cell_type": "code",
   "execution_count": 17,
   "metadata": {
    "ExecuteTime": {
     "end_time": "2021-05-05T14:45:50.507878Z",
     "start_time": "2021-05-05T14:45:20.044027Z"
    }
   },
   "outputs": [],
   "source": [
    "x_test_full = test_df['sentence']\n",
    "x_test_idx = [np.array([char_vocab.token2idx[c] for c in line]) for line in x_test_full]\n",
    "test_data = [(x, y) for x, y in zip(x_test_idx, list(test_df['index']))]"
   ]
  },
  {
   "cell_type": "code",
   "execution_count": 18,
   "metadata": {
    "ExecuteTime": {
     "end_time": "2021-05-05T14:45:50.523884Z",
     "start_time": "2021-05-05T14:45:50.508879Z"
    }
   },
   "outputs": [],
   "source": [
    "def predict(model, data, batch_size, token_size):\n",
    "    answers=pd.DataFrame({'index': [], 'language': []})\n",
    "    model.eval()\n",
    "    \n",
    "    with torch.no_grad():\n",
    "        for batch in tqdm.tqdm(pool_generator(data, batch_size, token_size), total=len(list(pool_generator(test_data, batch_size, token_size)))):\n",
    "            tmp = pd.DataFrame({'index': [], 'language': []})\n",
    "            X = [torch.from_numpy(d[0]) for d in batch]\n",
    "            X_lengths = torch.tensor([x.numel() for x in X], dtype=torch.long)\n",
    "            tmp['index'] = [d[1] for d in batch]\n",
    "            # Pad the input sequences to create a matrix\n",
    "            X = torch.nn.utils.rnn.pad_sequence(X).to(device)\n",
    "            answer = model(X, X_lengths)\n",
    "            _, predicted = torch.max(answer, 1)\n",
    "            tmp['language'] = pd.DataFrame(predicted.cpu().numpy())\n",
    "            answers = pd.concat([answers, tmp], axis=0)\n",
    "            \n",
    "    answers = answers.sort_values(by=['index']).astype(int).reset_index(drop=True)\n",
    "    answers['language'] = [lang_vocab.idx2token[idx] for idx in answers['language']]\n",
    "    \n",
    "    return answers"
   ]
  },
  {
   "cell_type": "code",
   "execution_count": 19,
   "metadata": {
    "ExecuteTime": {
     "end_time": "2021-05-05T14:48:22.465738Z",
     "start_time": "2021-05-05T14:45:50.524884Z"
    },
    "scrolled": true
   },
   "outputs": [
    {
     "name": "stderr",
     "output_type": "stream",
     "text": [
      "100%|████████████████████████████████████████████████████████████████████████████| 10878/10878 [02:29<00:00, 72.66it/s]\n"
     ]
    }
   ],
   "source": [
    "answers = predict(model, test_data, 256, token_size)"
   ]
  },
  {
   "cell_type": "code",
   "execution_count": 20,
   "metadata": {
    "ExecuteTime": {
     "end_time": "2021-05-05T14:48:49.979715Z",
     "start_time": "2021-05-05T14:48:48.171308Z"
    }
   },
   "outputs": [],
   "source": [
    "(\n",
    "    answers\n",
    "    .to_csv(f'{DATA_PATH}/submission.csv', index=False)\n",
    ")"
   ]
  },
  {
   "cell_type": "code",
   "execution_count": 64,
   "metadata": {
    "ExecuteTime": {
     "end_time": "2021-05-05T11:12:47.624800Z",
     "start_time": "2021-05-05T11:12:47.090679Z"
    },
    "code_folding": []
   },
   "outputs": [],
   "source": [
    "# train_full = [(x, y) for x, y in zip(x_train_idx, df.index)]"
   ]
  },
  {
   "cell_type": "code",
   "execution_count": 65,
   "metadata": {
    "ExecuteTime": {
     "end_time": "2021-05-05T11:15:21.856686Z",
     "start_time": "2021-05-05T11:12:49.626705Z"
    },
    "code_folding": []
   },
   "outputs": [
    {
     "name": "stderr",
     "output_type": "stream",
     "text": [
      " 98%|██████████████████████████████████████████████████████████████████████████▌ | 10666/10878 [02:30<00:02, 71.08it/s]\n"
     ]
    }
   ],
   "source": [
    "# train_predict = predict(model, train_full, 256, token_size)"
   ]
  },
  {
   "cell_type": "code",
   "execution_count": 66,
   "metadata": {
    "ExecuteTime": {
     "end_time": "2021-05-05T11:15:27.542320Z",
     "start_time": "2021-05-05T11:15:26.474843Z"
    },
    "code_folding": [
     0
    ],
    "scrolled": true
   },
   "outputs": [
    {
     "data": {
      "image/png": "[encoded data removed]",
      "text/plain": [
       "<Figure size 576x1800 with 1 Axes>"
      ]
     },
     "metadata": {},
     "output_type": "display_data"
    }
   ],
   "source": [
    "# lang_count = (\n",
    "#     df.language.value_counts()\n",
    "#     .to_frame()\n",
    "#     .reset_index()\n",
    "# )\n",
    "\n",
    "# failed = pd.DataFrame({'language': df.language[train_predict.language.values!=df.language.values]})\n",
    "\n",
    "# lang_count_failed = (\n",
    "#     failed.language.value_counts()\n",
    "#     .to_frame()\n",
    "#     .reset_index()\n",
    "# )\n",
    "\n",
    "# fig, ax = plt.subplots(figsize=(8,25))\n",
    "\n",
    "# ax.barh(lang_count['index'], lang_count['language'])\n",
    "# ax.barh(lang_count_failed['index'], lang_count_failed['language'])\n",
    "# ax.invert_yaxis();"
   ]
  },
  {
   "cell_type": "code",
   "execution_count": null,
   "metadata": {},
   "outputs": [],
   "source": []
  }
 ],
 "metadata": {
  "kernelspec": {
   "display_name": "Python 3",
   "language": "python",
   "name": "python3"
  },
  "language_info": {
   "codemirror_mode": {
    "name": "ipython",
    "version": 3
   },
   "file_extension": ".py",
   "mimetype": "text/x-python",
   "name": "python",
   "nbconvert_exporter": "python",
   "pygments_lexer": "ipython3",
   "version": "3.8.5"
  },
  "latex_envs": {
   "LaTeX_envs_menu_present": true,
   "autoclose": false,
   "autocomplete": true,
   "bibliofile": "biblio.bib",
   "cite_by": "apalike",
   "current_citInitial": 1,
   "eqLabelWithNumbers": true,
   "eqNumInitial": 1,
   "hotkeys": {
    "equation": "Ctrl-E",
    "itemize": "Ctrl-I"
   },
   "labels_anchors": false,
   "latex_user_defs": false,
   "report_style_numbering": false,
   "user_envs_cfg": false
  },
  "toc": {
   "base_numbering": 1,
   "nav_menu": {},
   "number_sections": true,
   "sideBar": true,
   "skip_h1_title": false,
   "title_cell": "Table of Contents",
   "title_sidebar": "Contents",
   "toc_cell": true,
   "toc_position": {},
   "toc_section_display": true,
   "toc_window_display": true
  }
 },
 "nbformat": 4,
 "nbformat_minor": 2
}
