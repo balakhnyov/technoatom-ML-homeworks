{
 "cells": [
  {
   "cell_type": "markdown",
   "metadata": {},
   "source": [
    "## AB Tests"
   ]
  },
  {
   "cell_type": "markdown",
   "metadata": {},
   "source": [
    "### 1. Оценка результатов AB теста"
   ]
  },
  {
   "cell_type": "markdown",
   "metadata": {},
   "source": [
    "В данном задании вам требуется оценить результаты AB теста. Даны результаты на контрольной и тестовой группе после проведения AB теста.\n",
    "Помимо показателей целевой переменной, вам даны также несколько фичей, которые являются характеристиками объектов. Даны целевые показатели (y) и принадлежность к целевой группе (W).\n",
    "\n",
    "</u>Задача:</u>\n",
    "1. Проверьте подходящую для данных гипотезу о равенстве средних в выборках\n",
    "2. Каков treatment effect нашего воздействия? (ATE) \n",
    "3. Примените известные вам методы оценки ATE с учетом особенностей данных.\n",
    "4. Проанализируйте, сравните результаты применения различных методов.\n",
    "5. В явном виде выпишите выводы.\n",
    "\n",
    "</i>Примечание: предположения о рандомизированном эксперименте нуждаются в проверке - независимость treatment от объектов не гарантирована. Все предположения выписывайте явно.</i> \n",
    "\n",
    "Для данной задачи используется dataset:  dataset_part1_students.csv"
   ]
  },
  {
   "cell_type": "code",
   "execution_count": 1,
   "metadata": {},
   "outputs": [],
   "source": [
    "import pandas as pd\n",
    "from scipy import stats\n",
    "import numpy as np\n",
    "import matplotlib.pyplot as plt"
   ]
  },
  {
   "cell_type": "code",
   "execution_count": 24,
   "metadata": {},
   "outputs": [
    {
     "data": {
      "text/plain": [
       "'1.0.5'"
      ]
     },
     "execution_count": 24,
     "metadata": {},
     "output_type": "execute_result"
    }
   ],
   "source": [
    "pd.__version__"
   ]
  },
  {
   "cell_type": "code",
   "execution_count": 2,
   "metadata": {},
   "outputs": [],
   "source": [
    "df = pd.read_csv('student_data/dataset_part1_students.csv', sep='\\t')"
   ]
  },
  {
   "cell_type": "code",
   "execution_count": 136,
   "metadata": {},
   "outputs": [
    {
     "data": {
      "text/html": [
       "<div>\n",
       "<style scoped>\n",
       "    .dataframe tbody tr th:only-of-type {\n",
       "        vertical-align: middle;\n",
       "    }\n",
       "\n",
       "    .dataframe tbody tr th {\n",
       "        vertical-align: top;\n",
       "    }\n",
       "\n",
       "    .dataframe thead th {\n",
       "        text-align: right;\n",
       "    }\n",
       "</style>\n",
       "<table border=\"1\" class=\"dataframe\">\n",
       "  <thead>\n",
       "    <tr style=\"text-align: right;\">\n",
       "      <th></th>\n",
       "      <th>y</th>\n",
       "      <th>W</th>\n",
       "      <th>X_1</th>\n",
       "      <th>X_2</th>\n",
       "      <th>X_3</th>\n",
       "      <th>X_4</th>\n",
       "      <th>X_5</th>\n",
       "      <th>X_6</th>\n",
       "      <th>X_7</th>\n",
       "      <th>X_8</th>\n",
       "      <th>X_9</th>\n",
       "      <th>X_10</th>\n",
       "    </tr>\n",
       "  </thead>\n",
       "  <tbody>\n",
       "    <tr>\n",
       "      <th>0</th>\n",
       "      <td>-1.459404</td>\n",
       "      <td>0.0</td>\n",
       "      <td>0.986277</td>\n",
       "      <td>0.873392</td>\n",
       "      <td>0.509746</td>\n",
       "      <td>0.271836</td>\n",
       "      <td>0.336919</td>\n",
       "      <td>0.216954</td>\n",
       "      <td>0.276477</td>\n",
       "      <td>0.343316</td>\n",
       "      <td>0.862159</td>\n",
       "      <td>0.156700</td>\n",
       "    </tr>\n",
       "    <tr>\n",
       "      <th>1</th>\n",
       "      <td>-1.694174</td>\n",
       "      <td>0.0</td>\n",
       "      <td>0.140887</td>\n",
       "      <td>0.757080</td>\n",
       "      <td>0.736325</td>\n",
       "      <td>0.355663</td>\n",
       "      <td>0.341093</td>\n",
       "      <td>0.666803</td>\n",
       "      <td>0.217101</td>\n",
       "      <td>0.561427</td>\n",
       "      <td>0.124179</td>\n",
       "      <td>0.319736</td>\n",
       "    </tr>\n",
       "    <tr>\n",
       "      <th>2</th>\n",
       "      <td>5.378374</td>\n",
       "      <td>0.0</td>\n",
       "      <td>0.953214</td>\n",
       "      <td>0.137357</td>\n",
       "      <td>0.569413</td>\n",
       "      <td>0.975665</td>\n",
       "      <td>0.503367</td>\n",
       "      <td>0.667664</td>\n",
       "      <td>0.034191</td>\n",
       "      <td>0.456119</td>\n",
       "      <td>0.155851</td>\n",
       "      <td>0.476049</td>\n",
       "    </tr>\n",
       "    <tr>\n",
       "      <th>3</th>\n",
       "      <td>2.188189</td>\n",
       "      <td>1.0</td>\n",
       "      <td>0.169702</td>\n",
       "      <td>0.896258</td>\n",
       "      <td>0.373394</td>\n",
       "      <td>0.379693</td>\n",
       "      <td>0.858317</td>\n",
       "      <td>0.646061</td>\n",
       "      <td>0.583462</td>\n",
       "      <td>0.668350</td>\n",
       "      <td>0.177793</td>\n",
       "      <td>0.849248</td>\n",
       "    </tr>\n",
       "    <tr>\n",
       "      <th>4</th>\n",
       "      <td>2.862696</td>\n",
       "      <td>1.0</td>\n",
       "      <td>0.442373</td>\n",
       "      <td>0.831468</td>\n",
       "      <td>0.763921</td>\n",
       "      <td>0.919691</td>\n",
       "      <td>0.070573</td>\n",
       "      <td>0.156165</td>\n",
       "      <td>0.636894</td>\n",
       "      <td>0.555696</td>\n",
       "      <td>0.191929</td>\n",
       "      <td>0.425656</td>\n",
       "    </tr>\n",
       "  </tbody>\n",
       "</table>\n",
       "</div>"
      ],
      "text/plain": [
       "          y    W       X_1       X_2       X_3       X_4       X_5       X_6  \\\n",
       "0 -1.459404  0.0  0.986277  0.873392  0.509746  0.271836  0.336919  0.216954   \n",
       "1 -1.694174  0.0  0.140887  0.757080  0.736325  0.355663  0.341093  0.666803   \n",
       "2  5.378374  0.0  0.953214  0.137357  0.569413  0.975665  0.503367  0.667664   \n",
       "3  2.188189  1.0  0.169702  0.896258  0.373394  0.379693  0.858317  0.646061   \n",
       "4  2.862696  1.0  0.442373  0.831468  0.763921  0.919691  0.070573  0.156165   \n",
       "\n",
       "        X_7       X_8       X_9      X_10  \n",
       "0  0.276477  0.343316  0.862159  0.156700  \n",
       "1  0.217101  0.561427  0.124179  0.319736  \n",
       "2  0.034191  0.456119  0.155851  0.476049  \n",
       "3  0.583462  0.668350  0.177793  0.849248  \n",
       "4  0.636894  0.555696  0.191929  0.425656  "
      ]
     },
     "execution_count": 136,
     "metadata": {},
     "output_type": "execute_result"
    }
   ],
   "source": [
    "df.head()"
   ]
  },
  {
   "cell_type": "code",
   "execution_count": 137,
   "metadata": {
    "scrolled": true
   },
   "outputs": [],
   "source": [
    "A = df[df['W']==1]\n",
    "B = df[df['W']==0]"
   ]
  },
  {
   "cell_type": "code",
   "execution_count": 6,
   "metadata": {},
   "outputs": [
    {
     "data": {
      "text/plain": [
       "Ttest_indResult(statistic=9.332400850259313, pvalue=1.1400916649505329e-20)"
      ]
     },
     "execution_count": 6,
     "metadata": {},
     "output_type": "execute_result"
    }
   ],
   "source": [
    "stats.ttest_ind(A.y.values, B.y.values)"
   ]
  },
  {
   "cell_type": "markdown",
   "metadata": {},
   "source": [
    "гипотеза о равенстве средних в выборках отвергается"
   ]
  },
  {
   "cell_type": "markdown",
   "metadata": {},
   "source": [
    "#### treatment effect (ATE)"
   ]
  },
  {
   "cell_type": "code",
   "execution_count": 7,
   "metadata": {},
   "outputs": [
    {
     "data": {
      "text/plain": [
       "0.40010310554442663"
      ]
     },
     "execution_count": 7,
     "metadata": {},
     "output_type": "execute_result"
    }
   ],
   "source": [
    "treatment_effect = A.y.values.mean() - B.y.values.mean()\n",
    "treatment_effect"
   ]
  },
  {
   "cell_type": "code",
   "execution_count": 8,
   "metadata": {},
   "outputs": [
    {
     "data": {
      "text/plain": [
       "0.08402396031180587"
      ]
     },
     "execution_count": 8,
     "metadata": {},
     "output_type": "execute_result"
    }
   ],
   "source": [
    "delta_err  = 1.96 * np.sqrt(\n",
    "        A.y.values.var() / A.y.values.shape[0] + \n",
    "        B.y.values.var() / B.y.values.shape[0])\n",
    "delta_err"
   ]
  },
  {
   "cell_type": "markdown",
   "metadata": {},
   "source": [
    "#### treatment effect (ATE) с учётом особенностей данных"
   ]
  },
  {
   "cell_type": "code",
   "execution_count": 9,
   "metadata": {},
   "outputs": [],
   "source": [
    "import econml"
   ]
  },
  {
   "cell_type": "code",
   "execution_count": 7,
   "metadata": {},
   "outputs": [],
   "source": [
    "from causalml.inference import meta"
   ]
  },
  {
   "cell_type": "code",
   "execution_count": 8,
   "metadata": {},
   "outputs": [],
   "source": [
    "from causalinference import CausalModel"
   ]
  },
  {
   "cell_type": "code",
   "execution_count": 13,
   "metadata": {},
   "outputs": [],
   "source": [
    "k2,p = stats.normaltest(df)"
   ]
  },
  {
   "cell_type": "code",
   "execution_count": 14,
   "metadata": {},
   "outputs": [
    {
     "data": {
      "text/plain": [
       "0.5952637697871511"
      ]
     },
     "execution_count": 14,
     "metadata": {},
     "output_type": "execute_result"
    }
   ],
   "source": [
    "p[0] #отклонение от нормалного распределения"
   ]
  },
  {
   "cell_type": "code",
   "execution_count": 15,
   "metadata": {},
   "outputs": [],
   "source": [
    "X = df.drop(['W', 'y'], axis=1)"
   ]
  },
  {
   "cell_type": "code",
   "execution_count": 24,
   "metadata": {},
   "outputs": [
    {
     "data": {
      "text/plain": [
       "array([-1.45940437, -1.69417388,  5.37837364, ...,  2.56938641,\n",
       "        0.96418384, -1.43338596])"
      ]
     },
     "execution_count": 24,
     "metadata": {},
     "output_type": "execute_result"
    }
   ],
   "source": [
    "df['y'].values"
   ]
  },
  {
   "cell_type": "code",
   "execution_count": 25,
   "metadata": {},
   "outputs": [
    {
     "data": {
      "text/plain": [
       "array([[0.98627683, 0.87339195, 0.50974552, ..., 0.34331559, 0.86215894,\n",
       "        0.15669967],\n",
       "       [0.14088724, 0.75708028, 0.73632492, ..., 0.56142698, 0.12417878,\n",
       "        0.31973648],\n",
       "       [0.95321387, 0.13735679, 0.5694131 , ..., 0.45611937, 0.15585136,\n",
       "        0.47604897],\n",
       "       ...,\n",
       "       [0.05875441, 0.93248915, 0.53724573, ..., 0.44024325, 0.3499118 ,\n",
       "        0.80608489],\n",
       "       [0.63966306, 0.29187749, 0.11129211, ..., 0.33129636, 0.78293707,\n",
       "        0.00524632],\n",
       "       [0.13517287, 0.76663239, 0.57777096, ..., 0.98220922, 0.67238896,\n",
       "        0.11684441]])"
      ]
     },
     "execution_count": 25,
     "metadata": {},
     "output_type": "execute_result"
    }
   ],
   "source": [
    "X.values"
   ]
  },
  {
   "cell_type": "code",
   "execution_count": 27,
   "metadata": {},
   "outputs": [
    {
     "name": "stdout",
     "output_type": "stream",
     "text": [
      "\n",
      "Treatment Effect Estimates: OLS\n",
      "\n",
      "                     Est.       S.e.          z      P>|z|      [95% Conf. int.]\n",
      "--------------------------------------------------------------------------------\n",
      "           ATE      0.513      0.049     10.458      0.000      0.417      0.610\n",
      "\n"
     ]
    },
    {
     "name": "stderr",
     "output_type": "stream",
     "text": [
      "`rcond` parameter will change to the default of machine precision times ``max(M, N)`` where M and N are the input matrix dimensions.\n",
      "To use the future default and silence this warning we advise to pass `rcond=None`, to keep using the old, explicitly pass `rcond=-1`.\n"
     ]
    }
   ],
   "source": [
    "cm = CausalModel(\n",
    "    Y=df['y'].values, \n",
    "    D=df['W'].values, \n",
    "    X=X.values)\n",
    "\n",
    "cm.est_via_ols(adj=1)\n",
    "\n",
    "OLS = cm.estimates\n",
    "\n",
    "print(cm.estimates) #линейная регрессия"
   ]
  },
  {
   "cell_type": "code",
   "execution_count": 29,
   "metadata": {},
   "outputs": [
    {
     "name": "stdout",
     "output_type": "stream",
     "text": [
      "\n",
      "Treatment Effect Estimates: Matching\n",
      "\n",
      "                     Est.       S.e.          z      P>|z|      [95% Conf. int.]\n",
      "--------------------------------------------------------------------------------\n",
      "           ATE      0.478      0.076      6.266      0.000      0.329      0.628\n",
      "           ATC      0.388      0.090      4.330      0.000      0.212      0.563\n",
      "           ATT      0.561      0.090      6.247      0.000      0.385      0.737\n",
      "\n"
     ]
    }
   ],
   "source": [
    "cm = CausalModel(\n",
    "    Y=df['y'].values, \n",
    "    D=df['W'].values,\n",
    "    X=X.values)\n",
    "\n",
    "cm.est_via_matching()\n",
    "\n",
    "Matching = cm.estimates\n",
    "\n",
    "print(cm.estimates) #оценка соответствия"
   ]
  },
  {
   "cell_type": "code",
   "execution_count": 30,
   "metadata": {},
   "outputs": [
    {
     "name": "stdout",
     "output_type": "stream",
     "text": [
      "\n",
      "Treatment Effect Estimates: Matching\n",
      "\n",
      "                     Est.       S.e.          z      P>|z|      [95% Conf. int.]\n",
      "--------------------------------------------------------------------------------\n",
      "           ATE      0.499      0.079      6.302      0.000      0.344      0.654\n",
      "           ATC      0.408      0.090      4.516      0.000      0.231      0.585\n",
      "           ATT      0.568      0.092      6.160      0.000      0.387      0.749\n",
      "\n"
     ]
    }
   ],
   "source": [
    "cm = CausalModel(\n",
    "    Y=df['y'].values, \n",
    "    D=df['W'].values,\n",
    "    X=X.values)\n",
    "\n",
    "cm.est_propensity_s()\n",
    "cm.trim_s()\n",
    "cm.est_via_matching()\n",
    "\n",
    "Matching_PS = cm.estimates\n",
    "\n",
    "print(cm.estimates)"
   ]
  },
  {
   "cell_type": "code",
   "execution_count": 31,
   "metadata": {},
   "outputs": [
    {
     "name": "stdout",
     "output_type": "stream",
     "text": [
      "\n",
      "Treatment Effect Estimates: Blocking\n",
      "\n",
      "                     Est.       S.e.          z      P>|z|      [95% Conf. int.]\n",
      "--------------------------------------------------------------------------------\n",
      "           ATE      0.515      0.056      9.264      0.000      0.406      0.624\n",
      "           ATC      0.412      0.066      6.215      0.000      0.282      0.542\n",
      "           ATT      0.609      0.066      9.195      0.000      0.479      0.739\n",
      "\n"
     ]
    }
   ],
   "source": [
    "cm = CausalModel(\n",
    "    Y=df['y'].values, \n",
    "    D=df['W'].values, \n",
    "    X=X.values)\n",
    "\n",
    "cm.est_propensity_s()\n",
    "cm.stratify_s()\n",
    "cm.est_via_blocking()\n",
    "\n",
    "Blocking = cm.estimates\n",
    "\n",
    "print(cm.estimates)"
   ]
  },
  {
   "cell_type": "code",
   "execution_count": 33,
   "metadata": {},
   "outputs": [
    {
     "name": "stdout",
     "output_type": "stream",
     "text": [
      "\n",
      "Treatment Effect Estimates: OLS\n",
      "\n",
      "                     Est.       S.e.          z      P>|z|      [95% Conf. int.]\n",
      "--------------------------------------------------------------------------------\n",
      "           ATE      0.513      0.049     10.458      0.000      0.417      0.610\n",
      "\n",
      "\n",
      "Treatment Effect Estimates: Matching\n",
      "\n",
      "                     Est.       S.e.          z      P>|z|      [95% Conf. int.]\n",
      "--------------------------------------------------------------------------------\n",
      "           ATE      0.478      0.076      6.266      0.000      0.329      0.628\n",
      "           ATC      0.388      0.090      4.330      0.000      0.212      0.563\n",
      "           ATT      0.561      0.090      6.247      0.000      0.385      0.737\n",
      "\n",
      "\n",
      "Treatment Effect Estimates: Matching\n",
      "\n",
      "                     Est.       S.e.          z      P>|z|      [95% Conf. int.]\n",
      "--------------------------------------------------------------------------------\n",
      "           ATE      0.499      0.079      6.302      0.000      0.344      0.654\n",
      "           ATC      0.408      0.090      4.516      0.000      0.231      0.585\n",
      "           ATT      0.568      0.092      6.160      0.000      0.387      0.749\n",
      "\n",
      "\n",
      "Treatment Effect Estimates: Blocking\n",
      "\n",
      "                     Est.       S.e.          z      P>|z|      [95% Conf. int.]\n",
      "--------------------------------------------------------------------------------\n",
      "           ATE      0.515      0.056      9.264      0.000      0.406      0.624\n",
      "           ATC      0.412      0.066      6.215      0.000      0.282      0.542\n",
      "           ATT      0.609      0.066      9.195      0.000      0.479      0.739\n",
      "\n"
     ]
    }
   ],
   "source": [
    "print(OLS)\n",
    "print(Matching)\n",
    "print(Matching_PS)\n",
    "print(Blocking)"
   ]
  },
  {
   "cell_type": "code",
   "execution_count": 38,
   "metadata": {},
   "outputs": [],
   "source": [
    "ate_dict = dict()"
   ]
  },
  {
   "cell_type": "code",
   "execution_count": 39,
   "metadata": {},
   "outputs": [],
   "source": [
    "ate_dict['ols'] = OLS['ols']\n",
    "ate_dict['Matching'] = Matching['matching']\n",
    "ate_dict['Matching_PS'] = Matching_PS['matching']\n",
    "ate_dict['Blocking'] = Blocking['blocking']"
   ]
  },
  {
   "cell_type": "code",
   "execution_count": 51,
   "metadata": {},
   "outputs": [
    {
     "data": {
      "image/png": "[encoded data removed]",
      "text/plain": [
       "<Figure size 432x288 with 1 Axes>"
      ]
     },
     "metadata": {},
     "output_type": "display_data"
    }
   ],
   "source": [
    "y = []\n",
    "yerr = []\n",
    "x_label = []\n",
    "\n",
    "for method, result in ate_dict.items():\n",
    "    y.append(result[\"ate\"])\n",
    "    yerr.append(result[\"ate_se\"])\n",
    "    x_label.append(method)\n",
    "    \n",
    "x = np.arange(len(y))\n",
    "\n",
    "plt.errorbar(x=x, y=y, yerr=yerr, linestyle=\"none\", capsize=5, marker=\"o\")\n",
    "plt.xticks(x, x_label)\n",
    "plt.title(\"Estimated Effect Size\", fontsize=18)\n",
    "plt.hlines(treatment_effect, -0.5, 3.5, linestyles=\"dashed\")\n",
    "plt.xlim(-0.5, 3.5);"
   ]
  },
  {
   "cell_type": "markdown",
   "metadata": {},
   "source": [
    "#### Выводы"
   ]
  },
  {
   "cell_type": "code",
   "execution_count": 43,
   "metadata": {},
   "outputs": [
    {
     "data": {
      "text/plain": [
       "0.40010310554442663"
      ]
     },
     "execution_count": 43,
     "metadata": {},
     "output_type": "execute_result"
    }
   ],
   "source": [
    "treatment_effect"
   ]
  },
  {
   "cell_type": "code",
   "execution_count": 44,
   "metadata": {},
   "outputs": [
    {
     "data": {
      "text/plain": [
       "0.5149968969402047"
      ]
     },
     "execution_count": 44,
     "metadata": {},
     "output_type": "execute_result"
    }
   ],
   "source": [
    "ate_dict['Blocking']['ate'] #не попадает в диапазон"
   ]
  },
  {
   "cell_type": "code",
   "execution_count": 45,
   "metadata": {},
   "outputs": [
    {
     "data": {
      "text/plain": [
       "0.47831269594853837"
      ]
     },
     "execution_count": 45,
     "metadata": {},
     "output_type": "execute_result"
    }
   ],
   "source": [
    "ate_dict['Matching']['ate']"
   ]
  },
  {
   "cell_type": "code",
   "execution_count": 46,
   "metadata": {},
   "outputs": [
    {
     "data": {
      "text/plain": [
       "0.4988233893103572"
      ]
     },
     "execution_count": 46,
     "metadata": {},
     "output_type": "execute_result"
    }
   ],
   "source": [
    "ate_dict['Matching_PS']['ate']"
   ]
  },
  {
   "cell_type": "code",
   "execution_count": 47,
   "metadata": {},
   "outputs": [
    {
     "data": {
      "text/plain": [
       "0.5133854882565579"
      ]
     },
     "execution_count": 47,
     "metadata": {},
     "output_type": "execute_result"
    }
   ],
   "source": [
    "ate_dict['ols']['ate']#не попадает в диапазон"
   ]
  },
  {
   "cell_type": "code",
   "execution_count": 48,
   "metadata": {},
   "outputs": [
    {
     "name": "stdout",
     "output_type": "stream",
     "text": [
      "-0.11489379139577804\n",
      "-0.07820959040411174\n",
      "-0.09872028376593056\n",
      "-0.11328238271213131\n"
     ]
    }
   ],
   "source": [
    "print(treatment_effect - ate_dict['Blocking']['ate'])\n",
    "print(treatment_effect - ate_dict['Matching']['ate'])  #наименьшее отклонение\n",
    "print(treatment_effect - ate_dict['Matching_PS']['ate'])\n",
    "print(treatment_effect - ate_dict['ols']['ate'])"
   ]
  },
  {
   "cell_type": "markdown",
   "metadata": {},
   "source": [
    "Версия B выигрывает"
   ]
  },
  {
   "cell_type": "markdown",
   "metadata": {},
   "source": [
    "### 2. Оценка результатов AB теста с показателями до начала эксперимента"
   ]
  },
  {
   "cell_type": "markdown",
   "metadata": {},
   "source": [
    "Необходимо как и ранее оценить результаты AB теста, а именно ATE. Вы располагаете результатами до и после проведения теста (y_0 и y_1), а также вам дан treatment assignment (W). \n",
    "\n",
    "Необходимо: \n",
    "1. Проверить все требуемые гипотезы\n",
    "2. Оценить ATE подходящим для этого случая методом (примените несколько методов)\n",
    "3. Сравнить и проанализировать результаты оценок\n",
    "4. Явно выписать выводы.\n",
    "\n",
    "Как и прежде, все предположения должны быть указаны. Визуализация результатов приветствуется.\n",
    "\n",
    "dataset_part2_students.csv"
   ]
  },
  {
   "cell_type": "code",
   "execution_count": 53,
   "metadata": {},
   "outputs": [],
   "source": [
    "df2 = pd.read_csv('student_data/dataset_part2_students.csv', sep='\\t')"
   ]
  },
  {
   "cell_type": "code",
   "execution_count": 54,
   "metadata": {},
   "outputs": [
    {
     "data": {
      "text/html": [
       "<div>\n",
       "<style scoped>\n",
       "    .dataframe tbody tr th:only-of-type {\n",
       "        vertical-align: middle;\n",
       "    }\n",
       "\n",
       "    .dataframe tbody tr th {\n",
       "        vertical-align: top;\n",
       "    }\n",
       "\n",
       "    .dataframe thead th {\n",
       "        text-align: right;\n",
       "    }\n",
       "</style>\n",
       "<table border=\"1\" class=\"dataframe\">\n",
       "  <thead>\n",
       "    <tr style=\"text-align: right;\">\n",
       "      <th></th>\n",
       "      <th>y_1</th>\n",
       "      <th>y_0</th>\n",
       "      <th>W</th>\n",
       "      <th>X_1</th>\n",
       "      <th>X_2</th>\n",
       "      <th>X_3</th>\n",
       "      <th>X_4</th>\n",
       "      <th>X_5</th>\n",
       "      <th>X_6</th>\n",
       "      <th>X_7</th>\n",
       "      <th>X_8</th>\n",
       "      <th>X_9</th>\n",
       "      <th>X_10</th>\n",
       "    </tr>\n",
       "  </thead>\n",
       "  <tbody>\n",
       "    <tr>\n",
       "      <th>0</th>\n",
       "      <td>5.887156</td>\n",
       "      <td>2.785060</td>\n",
       "      <td>1.0</td>\n",
       "      <td>0.605978</td>\n",
       "      <td>0.733369</td>\n",
       "      <td>0.138947</td>\n",
       "      <td>0.312673</td>\n",
       "      <td>0.997243</td>\n",
       "      <td>0.128162</td>\n",
       "      <td>0.178993</td>\n",
       "      <td>0.752925</td>\n",
       "      <td>0.662161</td>\n",
       "      <td>0.784310</td>\n",
       "    </tr>\n",
       "    <tr>\n",
       "      <th>1</th>\n",
       "      <td>2.232601</td>\n",
       "      <td>5.533515</td>\n",
       "      <td>0.0</td>\n",
       "      <td>0.096894</td>\n",
       "      <td>0.058571</td>\n",
       "      <td>0.962396</td>\n",
       "      <td>0.616557</td>\n",
       "      <td>0.086630</td>\n",
       "      <td>0.561272</td>\n",
       "      <td>0.616525</td>\n",
       "      <td>0.963843</td>\n",
       "      <td>0.574304</td>\n",
       "      <td>0.371161</td>\n",
       "    </tr>\n",
       "    <tr>\n",
       "      <th>2</th>\n",
       "      <td>0.144419</td>\n",
       "      <td>0.095546</td>\n",
       "      <td>1.0</td>\n",
       "      <td>0.452145</td>\n",
       "      <td>0.201850</td>\n",
       "      <td>0.569305</td>\n",
       "      <td>0.195096</td>\n",
       "      <td>0.583704</td>\n",
       "      <td>0.476313</td>\n",
       "      <td>0.517814</td>\n",
       "      <td>0.823099</td>\n",
       "      <td>0.732225</td>\n",
       "      <td>0.069056</td>\n",
       "    </tr>\n",
       "    <tr>\n",
       "      <th>3</th>\n",
       "      <td>-2.446425</td>\n",
       "      <td>3.590472</td>\n",
       "      <td>1.0</td>\n",
       "      <td>0.672129</td>\n",
       "      <td>0.643485</td>\n",
       "      <td>0.828014</td>\n",
       "      <td>0.204469</td>\n",
       "      <td>0.617489</td>\n",
       "      <td>0.617701</td>\n",
       "      <td>0.301069</td>\n",
       "      <td>0.871741</td>\n",
       "      <td>0.589654</td>\n",
       "      <td>0.981770</td>\n",
       "    </tr>\n",
       "    <tr>\n",
       "      <th>4</th>\n",
       "      <td>2.163090</td>\n",
       "      <td>1.365405</td>\n",
       "      <td>0.0</td>\n",
       "      <td>0.442232</td>\n",
       "      <td>0.126318</td>\n",
       "      <td>0.508831</td>\n",
       "      <td>0.431786</td>\n",
       "      <td>0.915940</td>\n",
       "      <td>0.709016</td>\n",
       "      <td>0.890655</td>\n",
       "      <td>0.588886</td>\n",
       "      <td>0.636830</td>\n",
       "      <td>0.342209</td>\n",
       "    </tr>\n",
       "  </tbody>\n",
       "</table>\n",
       "</div>"
      ],
      "text/plain": [
       "        y_1       y_0    W       X_1       X_2       X_3       X_4       X_5  \\\n",
       "0  5.887156  2.785060  1.0  0.605978  0.733369  0.138947  0.312673  0.997243   \n",
       "1  2.232601  5.533515  0.0  0.096894  0.058571  0.962396  0.616557  0.086630   \n",
       "2  0.144419  0.095546  1.0  0.452145  0.201850  0.569305  0.195096  0.583704   \n",
       "3 -2.446425  3.590472  1.0  0.672129  0.643485  0.828014  0.204469  0.617489   \n",
       "4  2.163090  1.365405  0.0  0.442232  0.126318  0.508831  0.431786  0.915940   \n",
       "\n",
       "        X_6       X_7       X_8       X_9      X_10  \n",
       "0  0.128162  0.178993  0.752925  0.662161  0.784310  \n",
       "1  0.561272  0.616525  0.963843  0.574304  0.371161  \n",
       "2  0.476313  0.517814  0.823099  0.732225  0.069056  \n",
       "3  0.617701  0.301069  0.871741  0.589654  0.981770  \n",
       "4  0.709016  0.890655  0.588886  0.636830  0.342209  "
      ]
     },
     "execution_count": 54,
     "metadata": {},
     "output_type": "execute_result"
    }
   ],
   "source": [
    "df2.head()"
   ]
  },
  {
   "cell_type": "code",
   "execution_count": 58,
   "metadata": {},
   "outputs": [],
   "source": [
    "y = df2['y_1'] - df2['y_0']"
   ]
  },
  {
   "cell_type": "code",
   "execution_count": 59,
   "metadata": {},
   "outputs": [],
   "source": [
    "df2['y'] = y"
   ]
  },
  {
   "cell_type": "code",
   "execution_count": 60,
   "metadata": {},
   "outputs": [],
   "source": [
    "k2,p = stats.normaltest(df2)"
   ]
  },
  {
   "cell_type": "code",
   "execution_count": 61,
   "metadata": {},
   "outputs": [
    {
     "data": {
      "text/plain": [
       "0.3192826657450293"
      ]
     },
     "execution_count": 61,
     "metadata": {},
     "output_type": "execute_result"
    }
   ],
   "source": [
    "p[0]"
   ]
  },
  {
   "cell_type": "markdown",
   "metadata": {},
   "source": [
    "гипотеза принимается"
   ]
  },
  {
   "cell_type": "code",
   "execution_count": 64,
   "metadata": {},
   "outputs": [],
   "source": [
    "A1 = df2[df2['W'] == 1]\n",
    "B1 = df2[df2['W'] == 0]"
   ]
  },
  {
   "cell_type": "code",
   "execution_count": 68,
   "metadata": {},
   "outputs": [],
   "source": [
    "y_A1 = A1['y']\n",
    "y_B0 = B1['y']"
   ]
  },
  {
   "cell_type": "code",
   "execution_count": 69,
   "metadata": {},
   "outputs": [
    {
     "data": {
      "text/plain": [
       "0.5549047702971166"
      ]
     },
     "execution_count": 69,
     "metadata": {},
     "output_type": "execute_result"
    }
   ],
   "source": [
    "treatment_effect_2 = y_A1.mean() - y_B0.mean()\n",
    "treatment_effect_2"
   ]
  },
  {
   "cell_type": "code",
   "execution_count": 72,
   "metadata": {},
   "outputs": [
    {
     "data": {
      "text/plain": [
       "FlignerResult(statistic=0.0003912182699424198, pvalue=0.9842194800359902)"
      ]
     },
     "execution_count": 72,
     "metadata": {},
     "output_type": "execute_result"
    }
   ],
   "source": [
    "stats.fligner(y_A1, y_B0)"
   ]
  },
  {
   "cell_type": "markdown",
   "metadata": {},
   "source": [
    "гипотеза о равенстве дисперсий принимается"
   ]
  },
  {
   "cell_type": "code",
   "execution_count": 73,
   "metadata": {},
   "outputs": [
    {
     "data": {
      "text/plain": [
       "Ttest_indResult(statistic=9.118025905018952, pvalue=9.12276266827303e-20)"
      ]
     },
     "execution_count": 73,
     "metadata": {},
     "output_type": "execute_result"
    }
   ],
   "source": [
    "stats.ttest_ind(y_A1, y_B0)"
   ]
  },
  {
   "cell_type": "markdown",
   "metadata": {},
   "source": [
    "гипотеза отвергается"
   ]
  },
  {
   "cell_type": "code",
   "execution_count": 74,
   "metadata": {},
   "outputs": [
    {
     "name": "stderr",
     "output_type": "stream",
     "text": [
      "p-value may not be accurate for N > 5000.\n"
     ]
    },
    {
     "data": {
      "text/plain": [
       "(0.7302572727203369, 0.0)"
      ]
     },
     "execution_count": 74,
     "metadata": {},
     "output_type": "execute_result"
    }
   ],
   "source": [
    "stats.shapiro(df2)"
   ]
  },
  {
   "cell_type": "markdown",
   "metadata": {},
   "source": [
    "гипотеза отвергается"
   ]
  },
  {
   "cell_type": "code",
   "execution_count": 75,
   "metadata": {},
   "outputs": [
    {
     "data": {
      "text/plain": [
       "MannwhitneyuResult(statistic=11245141.0, pvalue=9.177359384779589e-18)"
      ]
     },
     "execution_count": 75,
     "metadata": {},
     "output_type": "execute_result"
    }
   ],
   "source": [
    "stats.mannwhitneyu(y_A1, y_B0)"
   ]
  },
  {
   "cell_type": "markdown",
   "metadata": {},
   "source": [
    "гипотеза отвергается, так как отклонение от нормальности несущественно"
   ]
  },
  {
   "cell_type": "code",
   "execution_count": 77,
   "metadata": {},
   "outputs": [],
   "source": [
    "X2 = df2.drop(['W', 'y_0', 'y_1', 'y'], axis = 1)"
   ]
  },
  {
   "cell_type": "code",
   "execution_count": 79,
   "metadata": {},
   "outputs": [
    {
     "name": "stdout",
     "output_type": "stream",
     "text": [
      "\n",
      "Treatment Effect Estimates: OLS\n",
      "\n",
      "                     Est.       S.e.          z      P>|z|      [95% Conf. int.]\n",
      "--------------------------------------------------------------------------------\n",
      "           ATE      0.543      0.070      7.773      0.000      0.406      0.679\n",
      "\n"
     ]
    },
    {
     "name": "stderr",
     "output_type": "stream",
     "text": [
      "`rcond` parameter will change to the default of machine precision times ``max(M, N)`` where M and N are the input matrix dimensions.\n",
      "To use the future default and silence this warning we advise to pass `rcond=None`, to keep using the old, explicitly pass `rcond=-1`.\n"
     ]
    }
   ],
   "source": [
    "cmd = CausalModel(\n",
    "    Y=df2['y'].values, \n",
    "    D=df2['W'].values, \n",
    "    X=X2.values)\n",
    "\n",
    "cmd.est_via_ols(adj=1)\n",
    "\n",
    "OLS = cm.estimates\n",
    "\n",
    "print(cmd.estimates)"
   ]
  },
  {
   "cell_type": "code",
   "execution_count": 81,
   "metadata": {},
   "outputs": [
    {
     "name": "stdout",
     "output_type": "stream",
     "text": [
      "\n",
      "Treatment Effect Estimates: Matching\n",
      "\n",
      "                     Est.       S.e.          z      P>|z|      [95% Conf. int.]\n",
      "--------------------------------------------------------------------------------\n",
      "           ATE      0.570      0.109      5.225      0.000      0.356      0.784\n",
      "           ATC      0.484      0.128      3.798      0.000      0.234      0.734\n",
      "           ATT      0.649      0.128      5.065      0.000      0.398      0.900\n",
      "\n"
     ]
    }
   ],
   "source": [
    "cmd = CausalModel(\n",
    "    Y=df2['y'].values, \n",
    "    D=df2['W'].values, \n",
    "    X=X2.values)\n",
    "\n",
    "cmd.est_via_matching()\n",
    "\n",
    "Matching = cmd.estimates\n",
    "\n",
    "print(cmd.estimates)"
   ]
  },
  {
   "cell_type": "code",
   "execution_count": 82,
   "metadata": {},
   "outputs": [
    {
     "name": "stdout",
     "output_type": "stream",
     "text": [
      "\n",
      "Treatment Effect Estimates: Matching\n",
      "\n",
      "                     Est.       S.e.          z      P>|z|      [95% Conf. int.]\n",
      "--------------------------------------------------------------------------------\n",
      "           ATE      0.622      0.114      5.473      0.000      0.399      0.844\n",
      "           ATC      0.565      0.130      4.328      0.000      0.309      0.820\n",
      "           ATT      0.664      0.131      5.064      0.000      0.407      0.922\n",
      "\n"
     ]
    }
   ],
   "source": [
    "cmd = CausalModel(\n",
    "    Y=df2['y'].values, \n",
    "    D=df2['W'].values, \n",
    "    X=X2.values)\n",
    "\n",
    "cmd.est_propensity_s()\n",
    "cmd.trim_s()\n",
    "cmd.est_via_matching()\n",
    "\n",
    "Matching_PS = cmd.estimates\n",
    "\n",
    "print(cmd.estimates)"
   ]
  },
  {
   "cell_type": "code",
   "execution_count": 83,
   "metadata": {},
   "outputs": [
    {
     "name": "stdout",
     "output_type": "stream",
     "text": [
      "\n",
      "Treatment Effect Estimates: Blocking\n",
      "\n",
      "                     Est.       S.e.          z      P>|z|      [95% Conf. int.]\n",
      "--------------------------------------------------------------------------------\n",
      "           ATE      0.530      0.078      6.756      0.000      0.376      0.684\n",
      "           ATC      0.437      0.096      4.547      0.000      0.249      0.626\n",
      "           ATT      0.614      0.091      6.779      0.000      0.436      0.791\n",
      "\n"
     ]
    },
    {
     "name": "stderr",
     "output_type": "stream",
     "text": [
      "`rcond` parameter will change to the default of machine precision times ``max(M, N)`` where M and N are the input matrix dimensions.\n",
      "To use the future default and silence this warning we advise to pass `rcond=None`, to keep using the old, explicitly pass `rcond=-1`.\n"
     ]
    }
   ],
   "source": [
    "cmd = CausalModel(\n",
    "    Y=df2['y'].values, \n",
    "    D=df2['W'].values, \n",
    "    X=X2.values)\n",
    "\n",
    "cmd.est_propensity_s()\n",
    "cmd.stratify_s()\n",
    "cmd.est_via_blocking()\n",
    "\n",
    "Blocking = cmd.estimates\n",
    "\n",
    "print(cmd.estimates)"
   ]
  },
  {
   "cell_type": "code",
   "execution_count": 84,
   "metadata": {},
   "outputs": [
    {
     "data": {
      "text/plain": [
       "0.5549047702971166"
      ]
     },
     "execution_count": 84,
     "metadata": {},
     "output_type": "execute_result"
    }
   ],
   "source": [
    "treatment_effect_2#попадает в диапазоны всех методов"
   ]
  },
  {
   "cell_type": "code",
   "execution_count": 85,
   "metadata": {},
   "outputs": [
    {
     "data": {
      "text/plain": [
       "0.5149968969402047"
      ]
     },
     "execution_count": 85,
     "metadata": {},
     "output_type": "execute_result"
    }
   ],
   "source": [
    "OLS['blocking']['ate']"
   ]
  },
  {
   "cell_type": "code",
   "execution_count": 86,
   "metadata": {},
   "outputs": [
    {
     "data": {
      "text/plain": [
       "0.5704647920177232"
      ]
     },
     "execution_count": 86,
     "metadata": {},
     "output_type": "execute_result"
    }
   ],
   "source": [
    "Matching['matching']['ate']"
   ]
  },
  {
   "cell_type": "code",
   "execution_count": 87,
   "metadata": {},
   "outputs": [
    {
     "data": {
      "text/plain": [
       "0.6216427227265936"
      ]
     },
     "execution_count": 87,
     "metadata": {},
     "output_type": "execute_result"
    }
   ],
   "source": [
    "Matching_PS['matching']['ate']"
   ]
  },
  {
   "cell_type": "code",
   "execution_count": 88,
   "metadata": {},
   "outputs": [
    {
     "data": {
      "text/plain": [
       "0.5299575154042293"
      ]
     },
     "execution_count": 88,
     "metadata": {},
     "output_type": "execute_result"
    }
   ],
   "source": [
    "Blocking['blocking']['ate']"
   ]
  },
  {
   "cell_type": "code",
   "execution_count": 89,
   "metadata": {},
   "outputs": [
    {
     "name": "stdout",
     "output_type": "stream",
     "text": [
      "0.03990787335691193\n",
      "-0.015560021720606554\n",
      "-0.066737952429477\n",
      "0.024947254892887294\n"
     ]
    }
   ],
   "source": [
    "print(treatment_effect_2 - OLS['blocking']['ate'])\n",
    "print(treatment_effect_2 - Matching['matching']['ate'])#наименьшее отклонение\n",
    "print(treatment_effect_2 - Matching_PS['matching']['ate'])\n",
    "print(treatment_effect_2 - Blocking['blocking']['ate'])"
   ]
  },
  {
   "cell_type": "markdown",
   "metadata": {},
   "source": [
    "B выигрывает"
   ]
  },
  {
   "cell_type": "markdown",
   "metadata": {},
   "source": [
    "### 3. Построение uplift модели по результатам AB теста."
   ]
  },
  {
   "cell_type": "markdown",
   "metadata": {},
   "source": [
    "Вам даны результаты AB теста для модели конверсии клиента в продукте (conversion). Конверсия может принимать значения 1 или 0, что значит - клиент подключил услугу, либо не подключил соответственно.\n",
    "\n",
    "Задача:\n",
    "1. Оцените ATE по данным.\n",
    "2. Оцените CATE для каждого наблюдения.\n",
    "3. Проставьте рекомендации к воздействию на каждый объект.\n",
    "4. Какая ожидаемая конверсия при оптимальном воздействии?\n",
    "5. Все выводы, предпосылки и методы представляйте в явном виде в ноутбуке.\n",
    "\n",
    "Визуализация результатов также будет приветствоваться.\n",
    "\n",
    "dataset_part3_students.csv"
   ]
  },
  {
   "cell_type": "code",
   "execution_count": 92,
   "metadata": {},
   "outputs": [],
   "source": [
    "df3 = pd.read_csv('student_data/dataset_part3_students.csv', sep='\\t')"
   ]
  },
  {
   "cell_type": "code",
   "execution_count": 94,
   "metadata": {},
   "outputs": [
    {
     "data": {
      "text/html": [
       "<div>\n",
       "<style scoped>\n",
       "    .dataframe tbody tr th:only-of-type {\n",
       "        vertical-align: middle;\n",
       "    }\n",
       "\n",
       "    .dataframe tbody tr th {\n",
       "        vertical-align: top;\n",
       "    }\n",
       "\n",
       "    .dataframe thead th {\n",
       "        text-align: right;\n",
       "    }\n",
       "</style>\n",
       "<table border=\"1\" class=\"dataframe\">\n",
       "  <thead>\n",
       "    <tr style=\"text-align: right;\">\n",
       "      <th></th>\n",
       "      <th>treatment</th>\n",
       "      <th>X_1</th>\n",
       "      <th>X_2</th>\n",
       "      <th>X_3</th>\n",
       "      <th>X_4</th>\n",
       "      <th>X_5</th>\n",
       "      <th>X_6</th>\n",
       "      <th>X_7</th>\n",
       "      <th>X_8</th>\n",
       "      <th>X_9</th>\n",
       "      <th>...</th>\n",
       "      <th>X_14</th>\n",
       "      <th>X_15</th>\n",
       "      <th>X_16</th>\n",
       "      <th>X_17</th>\n",
       "      <th>X_18</th>\n",
       "      <th>X_19</th>\n",
       "      <th>X_20</th>\n",
       "      <th>X_21</th>\n",
       "      <th>X_22</th>\n",
       "      <th>conversion</th>\n",
       "    </tr>\n",
       "  </thead>\n",
       "  <tbody>\n",
       "    <tr>\n",
       "      <th>0</th>\n",
       "      <td>control</td>\n",
       "      <td>0.034351</td>\n",
       "      <td>0.550725</td>\n",
       "      <td>-1.348524</td>\n",
       "      <td>-0.029591</td>\n",
       "      <td>0.499535</td>\n",
       "      <td>-0.412464</td>\n",
       "      <td>0.933588</td>\n",
       "      <td>-0.522954</td>\n",
       "      <td>-0.029591</td>\n",
       "      <td>...</td>\n",
       "      <td>-0.314573</td>\n",
       "      <td>-0.879456</td>\n",
       "      <td>0.640264</td>\n",
       "      <td>1.165722</td>\n",
       "      <td>0.570495</td>\n",
       "      <td>0.529443</td>\n",
       "      <td>0.227962</td>\n",
       "      <td>1.929914</td>\n",
       "      <td>0.798664</td>\n",
       "      <td>0</td>\n",
       "    </tr>\n",
       "    <tr>\n",
       "      <th>1</th>\n",
       "      <td>control</td>\n",
       "      <td>-1.059404</td>\n",
       "      <td>0.299404</td>\n",
       "      <td>0.220273</td>\n",
       "      <td>-1.569660</td>\n",
       "      <td>1.084204</td>\n",
       "      <td>-2.167118</td>\n",
       "      <td>1.216469</td>\n",
       "      <td>-0.744547</td>\n",
       "      <td>-1.569660</td>\n",
       "      <td>...</td>\n",
       "      <td>0.303664</td>\n",
       "      <td>1.080643</td>\n",
       "      <td>2.646483</td>\n",
       "      <td>-0.329690</td>\n",
       "      <td>1.725636</td>\n",
       "      <td>1.434649</td>\n",
       "      <td>-2.064893</td>\n",
       "      <td>0.188000</td>\n",
       "      <td>-1.134651</td>\n",
       "      <td>0</td>\n",
       "    </tr>\n",
       "    <tr>\n",
       "      <th>2</th>\n",
       "      <td>control</td>\n",
       "      <td>0.051934</td>\n",
       "      <td>2.338729</td>\n",
       "      <td>-0.341017</td>\n",
       "      <td>-1.099362</td>\n",
       "      <td>0.693090</td>\n",
       "      <td>-2.424267</td>\n",
       "      <td>1.572066</td>\n",
       "      <td>-0.212798</td>\n",
       "      <td>-1.099362</td>\n",
       "      <td>...</td>\n",
       "      <td>-0.083721</td>\n",
       "      <td>-1.981712</td>\n",
       "      <td>0.224777</td>\n",
       "      <td>2.038004</td>\n",
       "      <td>2.516398</td>\n",
       "      <td>2.324280</td>\n",
       "      <td>-3.182196</td>\n",
       "      <td>-0.888490</td>\n",
       "      <td>-1.402561</td>\n",
       "      <td>0</td>\n",
       "    </tr>\n",
       "    <tr>\n",
       "      <th>3</th>\n",
       "      <td>treatment</td>\n",
       "      <td>0.667770</td>\n",
       "      <td>0.539316</td>\n",
       "      <td>0.468719</td>\n",
       "      <td>-0.840885</td>\n",
       "      <td>-0.708331</td>\n",
       "      <td>0.126634</td>\n",
       "      <td>1.275854</td>\n",
       "      <td>-0.954919</td>\n",
       "      <td>-0.840885</td>\n",
       "      <td>...</td>\n",
       "      <td>-0.752011</td>\n",
       "      <td>-0.347319</td>\n",
       "      <td>-1.659402</td>\n",
       "      <td>-0.871980</td>\n",
       "      <td>-0.893513</td>\n",
       "      <td>-0.658078</td>\n",
       "      <td>-2.704997</td>\n",
       "      <td>-0.390745</td>\n",
       "      <td>-1.578004</td>\n",
       "      <td>1</td>\n",
       "    </tr>\n",
       "    <tr>\n",
       "      <th>4</th>\n",
       "      <td>control</td>\n",
       "      <td>-1.416158</td>\n",
       "      <td>2.486628</td>\n",
       "      <td>0.496402</td>\n",
       "      <td>-1.174618</td>\n",
       "      <td>2.738267</td>\n",
       "      <td>-4.756755</td>\n",
       "      <td>-0.180918</td>\n",
       "      <td>-1.281432</td>\n",
       "      <td>-1.174618</td>\n",
       "      <td>...</td>\n",
       "      <td>-1.198151</td>\n",
       "      <td>-0.232961</td>\n",
       "      <td>0.948875</td>\n",
       "      <td>1.210523</td>\n",
       "      <td>1.536723</td>\n",
       "      <td>1.548610</td>\n",
       "      <td>-0.926435</td>\n",
       "      <td>0.972459</td>\n",
       "      <td>-0.711251</td>\n",
       "      <td>0</td>\n",
       "    </tr>\n",
       "  </tbody>\n",
       "</table>\n",
       "<p>5 rows × 24 columns</p>\n",
       "</div>"
      ],
      "text/plain": [
       "   treatment       X_1       X_2       X_3       X_4       X_5       X_6  \\\n",
       "0    control  0.034351  0.550725 -1.348524 -0.029591  0.499535 -0.412464   \n",
       "1    control -1.059404  0.299404  0.220273 -1.569660  1.084204 -2.167118   \n",
       "2    control  0.051934  2.338729 -0.341017 -1.099362  0.693090 -2.424267   \n",
       "3  treatment  0.667770  0.539316  0.468719 -0.840885 -0.708331  0.126634   \n",
       "4    control -1.416158  2.486628  0.496402 -1.174618  2.738267 -4.756755   \n",
       "\n",
       "        X_7       X_8       X_9  ...      X_14      X_15      X_16      X_17  \\\n",
       "0  0.933588 -0.522954 -0.029591  ... -0.314573 -0.879456  0.640264  1.165722   \n",
       "1  1.216469 -0.744547 -1.569660  ...  0.303664  1.080643  2.646483 -0.329690   \n",
       "2  1.572066 -0.212798 -1.099362  ... -0.083721 -1.981712  0.224777  2.038004   \n",
       "3  1.275854 -0.954919 -0.840885  ... -0.752011 -0.347319 -1.659402 -0.871980   \n",
       "4 -0.180918 -1.281432 -1.174618  ... -1.198151 -0.232961  0.948875  1.210523   \n",
       "\n",
       "       X_18      X_19      X_20      X_21      X_22  conversion  \n",
       "0  0.570495  0.529443  0.227962  1.929914  0.798664           0  \n",
       "1  1.725636  1.434649 -2.064893  0.188000 -1.134651           0  \n",
       "2  2.516398  2.324280 -3.182196 -0.888490 -1.402561           0  \n",
       "3 -0.893513 -0.658078 -2.704997 -0.390745 -1.578004           1  \n",
       "4  1.536723  1.548610 -0.926435  0.972459 -0.711251           0  \n",
       "\n",
       "[5 rows x 24 columns]"
      ]
     },
     "execution_count": 94,
     "metadata": {},
     "output_type": "execute_result"
    }
   ],
   "source": [
    "df3.head()"
   ]
  },
  {
   "cell_type": "code",
   "execution_count": 96,
   "metadata": {},
   "outputs": [],
   "source": [
    "from causalml.inference.meta import LRSRegressor\n",
    "from causalml.inference.meta import XGBTRegressor, MLPTRegressor\n",
    "from causalml.inference.meta import BaseXRegressor, BaseRRegressor, BaseSRegressor, BaseTRegressor\n",
    "from xgboost import XGBRegressor\n",
    "from sklearn.linear_model import LinearRegression"
   ]
  },
  {
   "cell_type": "code",
   "execution_count": 97,
   "metadata": {},
   "outputs": [],
   "source": [
    "X3 = df3.drop(['treatment', 'conversion'], axis=1)"
   ]
  },
  {
   "cell_type": "markdown",
   "metadata": {},
   "source": [
    "S-Learner "
   ]
  },
  {
   "cell_type": "code",
   "execution_count": 100,
   "metadata": {},
   "outputs": [
    {
     "name": "stdout",
     "output_type": "stream",
     "text": [
      "(array([0.05978375]), array([0.05692736]), array([0.06264014]))\n",
      "ATE estimate: 0.060\n",
      "ATE lower bound: 0.057\n",
      "ATE upper bound: 0.063\n"
     ]
    }
   ],
   "source": [
    "learner_s = LRSRegressor(control_name='control')\n",
    "ate_s = learner_s.estimate_ate(X = X3.values,\n",
    "                               treatment=df3['treatment'].values, \n",
    "                               y=df3['conversion'].values)\n",
    "print(ate_s)\n",
    "print('ATE estimate: {:.03f}'.format(ate_s[0][0]))\n",
    "print('ATE lower bound: {:.03f}'.format(ate_s[1][0]))\n",
    "print('ATE upper bound: {:.03f}'.format(ate_s[2][0]))"
   ]
  },
  {
   "cell_type": "code",
   "execution_count": 101,
   "metadata": {},
   "outputs": [
    {
     "name": "stdout",
     "output_type": "stream",
     "text": [
      "(array([-0.060792]), array([-0.06352001]), array([-0.05806398]))\n",
      "ATE estimate: -0.061\n",
      "ATE lower bound: -0.064\n",
      "ATE upper bound: -0.058\n"
     ]
    }
   ],
   "source": [
    "learner_s = LRSRegressor(control_name='treatment')\n",
    "ate_s = learner_s.estimate_ate(X = X3.values,\n",
    "                               treatment=df3['treatment'].values, \n",
    "                               y=df3['conversion'].values)\n",
    "print(ate_s)\n",
    "print('ATE estimate: {:.03f}'.format(ate_s[0][0]))\n",
    "print('ATE lower bound: {:.03f}'.format(ate_s[1][0]))\n",
    "print('ATE upper bound: {:.03f}'.format(ate_s[2][0]))"
   ]
  },
  {
   "cell_type": "markdown",
   "metadata": {},
   "source": [
    "T-Learner"
   ]
  },
  {
   "cell_type": "code",
   "execution_count": 103,
   "metadata": {},
   "outputs": [
    {
     "name": "stdout",
     "output_type": "stream",
     "text": [
      "\n",
      "Using the BaseTRegressor class and using Linear Regression (different result):\n",
      "(array([0.06073288]), array([0.05812061]), array([0.06334515]))\n"
     ]
    }
   ],
   "source": [
    "learner_t = BaseTRegressor(learner=LinearRegression(), control_name='control')\n",
    "ate_t = learner_t.estimate_ate(X = X3.values,\n",
    "                               treatment=df3['treatment'].values, \n",
    "                               y=df3['conversion'].values)\n",
    "print('\\nUsing the BaseTRegressor class and using Linear Regression (different result):')\n",
    "print(ate_t)"
   ]
  },
  {
   "cell_type": "markdown",
   "metadata": {},
   "source": [
    "X Learner without propensity score input"
   ]
  },
  {
   "cell_type": "code",
   "execution_count": 105,
   "metadata": {
    "scrolled": true
   },
   "outputs": [
    {
     "name": "stderr",
     "output_type": "stream",
     "text": [
      "The max_iter was reached which means the coef_ did not converge\n",
      "The max_iter was reached which means the coef_ did not converge\n",
      "The max_iter was reached which means the coef_ did not converge\n",
      "The max_iter was reached which means the coef_ did not converge\n",
      "The max_iter was reached which means the coef_ did not converge\n",
      "The max_iter was reached which means the coef_ did not converge\n",
      "The max_iter was reached which means the coef_ did not converge\n"
     ]
    },
    {
     "name": "stdout",
     "output_type": "stream",
     "text": [
      "Using the BaseXRegressor class and using XGB without propensity score input:\n",
      "(array([0.05922771]), array([0.05736434]), array([0.06109109]))\n"
     ]
    },
    {
     "name": "stderr",
     "output_type": "stream",
     "text": [
      "The max_iter was reached which means the coef_ did not converge\n",
      "The max_iter was reached which means the coef_ did not converge\n",
      "The max_iter was reached which means the coef_ did not converge\n",
      "The max_iter was reached which means the coef_ did not converge\n",
      "The max_iter was reached which means the coef_ did not converge\n",
      "The max_iter was reached which means the coef_ did not converge\n",
      "The max_iter was reached which means the coef_ did not converge\n"
     ]
    },
    {
     "name": "stdout",
     "output_type": "stream",
     "text": [
      "\n",
      "Using the BaseXRegressor class and using Linear Regression without propensity score input:\n",
      "(array([0.06072406]), array([0.05811175]), array([0.06333637]))\n"
     ]
    }
   ],
   "source": [
    "# Calling the Base Learner class and feeding in XGB\n",
    "learner_x = BaseXRegressor(XGBRegressor(), control_name='control')\n",
    "ate_x = learner_x.estimate_ate(X = X3.values,\n",
    "                               treatment=df3['treatment'].values, \n",
    "                               y=df3['conversion'].values)\n",
    "print('Using the BaseXRegressor class and using XGB without propensity score input:')\n",
    "print(ate_x)\n",
    "\n",
    "# Calling the Base Learner class and feeding in LinearRegression\n",
    "learner_x = BaseXRegressor(learner=LinearRegression(), control_name='control')\n",
    "ate_x = learner_x.estimate_ate(X = X3.values,\n",
    "                               treatment=df3['treatment'].values, \n",
    "                               y=df3['conversion'].values)\n",
    "print('\\nUsing the BaseXRegressor class and using Linear Regression without propensity score input:')\n",
    "print(ate_x)"
   ]
  },
  {
   "cell_type": "markdown",
   "metadata": {},
   "source": [
    "R Learner without propensity score input"
   ]
  },
  {
   "cell_type": "code",
   "execution_count": 107,
   "metadata": {},
   "outputs": [
    {
     "name": "stderr",
     "output_type": "stream",
     "text": [
      "The max_iter was reached which means the coef_ did not converge\n",
      "The max_iter was reached which means the coef_ did not converge\n",
      "The max_iter was reached which means the coef_ did not converge\n",
      "The max_iter was reached which means the coef_ did not converge\n",
      "The max_iter was reached which means the coef_ did not converge\n",
      "The max_iter was reached which means the coef_ did not converge\n",
      "The max_iter was reached which means the coef_ did not converge\n"
     ]
    },
    {
     "name": "stdout",
     "output_type": "stream",
     "text": [
      "Using the BaseRRegressor class and using Linear Regression without propensity score input:\n",
      "(array([0.06043982]), array([0.06043352]), array([0.06044612]))\n"
     ]
    }
   ],
   "source": [
    "# Calling the Base Learner class and feeding in LinearRegression\n",
    "learner_r = BaseRRegressor(learner=LinearRegression(), control_name='control')\n",
    "ate_r = learner_r.estimate_ate(X = X3.values,\n",
    "                               treatment=df3['treatment'].values, \n",
    "                               y=df3['conversion'].values)\n",
    "print('Using the BaseRRegressor class and using Linear Regression without propensity score input:')\n",
    "print(ate_r)"
   ]
  },
  {
   "cell_type": "code",
   "execution_count": 108,
   "metadata": {},
   "outputs": [
    {
     "name": "stdout",
     "output_type": "stream",
     "text": [
      "ATE estimate: 0.060\n"
     ]
    }
   ],
   "source": [
    "print('ATE estimate: {:.03f}'.format(ate_r[0][0]))"
   ]
  },
  {
   "cell_type": "markdown",
   "metadata": {},
   "source": [
    "#### CATE"
   ]
  },
  {
   "cell_type": "code",
   "execution_count": 109,
   "metadata": {},
   "outputs": [],
   "source": [
    "# S Learner\n",
    "learner_s = LRSRegressor(control_name='treatment')\n",
    "cate_s = learner_s.fit_predict(X = X3.values,\n",
    "                               treatment=df3['treatment'].values, \n",
    "                               y=df3['conversion'].values)"
   ]
  },
  {
   "cell_type": "code",
   "execution_count": 111,
   "metadata": {},
   "outputs": [],
   "source": [
    "# S Learner\n",
    "learner_s = LRSRegressor(control_name='control')\n",
    "cate_s = learner_s.fit_predict(X = X3.values,\n",
    "                               treatment=df3['treatment'].values, \n",
    "                               y=df3['conversion'].values)"
   ]
  },
  {
   "cell_type": "code",
   "execution_count": 112,
   "metadata": {},
   "outputs": [],
   "source": [
    "# T Learner\n",
    "learner_t = BaseTRegressor(learner=XGBRegressor(), control_name='control')\n",
    "cate_t = learner_t.fit_predict(X = X3.values,\n",
    "                               treatment=df3['treatment'].values, \n",
    "                               y=df3['conversion'].values)"
   ]
  },
  {
   "cell_type": "code",
   "execution_count": 113,
   "metadata": {},
   "outputs": [
    {
     "name": "stderr",
     "output_type": "stream",
     "text": [
      "The max_iter was reached which means the coef_ did not converge\n",
      "The max_iter was reached which means the coef_ did not converge\n",
      "The max_iter was reached which means the coef_ did not converge\n",
      "The max_iter was reached which means the coef_ did not converge\n",
      "The max_iter was reached which means the coef_ did not converge\n",
      "The max_iter was reached which means the coef_ did not converge\n",
      "The max_iter was reached which means the coef_ did not converge\n"
     ]
    }
   ],
   "source": [
    "# X Learner without propensity score input\n",
    "learner_x_no_p = BaseXRegressor(learner=XGBRegressor(), control_name='control')\n",
    "cate_x_no_p = learner_x_no_p.fit_predict(X = X3.values,\n",
    "                                         treatment=df3['treatment'].values,\n",
    "                                         y=df3['conversion'].values)"
   ]
  },
  {
   "cell_type": "code",
   "execution_count": 116,
   "metadata": {},
   "outputs": [
    {
     "name": "stderr",
     "output_type": "stream",
     "text": [
      "The max_iter was reached which means the coef_ did not converge\n",
      "The max_iter was reached which means the coef_ did not converge\n",
      "The max_iter was reached which means the coef_ did not converge\n",
      "The max_iter was reached which means the coef_ did not converge\n",
      "The max_iter was reached which means the coef_ did not converge\n",
      "The max_iter was reached which means the coef_ did not converge\n",
      "The max_iter was reached which means the coef_ did not converge\n"
     ]
    }
   ],
   "source": [
    "# R Learner without propensity score input\n",
    "learner_r_no_p = BaseRRegressor(learner=XGBRegressor(), control_name='control')\n",
    "cate_r_no_p = learner_r_no_p.fit_predict(X = X3.values,\n",
    "                                         treatment=df3['treatment'].values,\n",
    "                                         y=df3['conversion'].values)"
   ]
  },
  {
   "cell_type": "code",
   "execution_count": 117,
   "metadata": {},
   "outputs": [
    {
     "name": "stderr",
     "output_type": "stream",
     "text": [
      "Adding an axes using the same arguments as a previous axes currently reuses the earlier instance.  In a future version, a new instance will always be created and returned.  Meanwhile, this warning can be suppressed, and the future behavior ensured, by passing a unique label to each axes instance.\n"
     ]
    },
    {
     "data": {
      "image/png": "[encoded data removed]",
      "text/plain": [
       "<Figure size 864x576 with 1 Axes>"
      ]
     },
     "metadata": {},
     "output_type": "display_data"
    }
   ],
   "source": [
    "alpha=0.2\n",
    "bins=30\n",
    "plt.figure(figsize=(12,8))\n",
    "plt.hist(cate_t, alpha=alpha, bins=bins, label='T Learner')\n",
    "plt.hist(cate_x_no_p, alpha=alpha, bins=bins, label='X Learner (no propensity score)')\n",
    "plt.hist(cate_r_no_p, alpha=alpha, bins=bins, label='R Learner (no propensity score)')\n",
    "plt.vlines(cate_s[0], 0, plt.axes().get_ylim()[1], label='S Learner',\n",
    "           linestyles='dotted', colors='green', linewidth=2)\n",
    "plt.title('Distribution of CATE Predictions by Meta Learner')\n",
    "plt.xlabel('Individual Treatment Effect (ITE/CATE)')\n",
    "plt.ylabel('# of Samples')\n",
    "_=plt.legend()"
   ]
  },
  {
   "cell_type": "code",
   "execution_count": 118,
   "metadata": {},
   "outputs": [
    {
     "name": "stdout",
     "output_type": "stream",
     "text": [
      "C extension was not built during install!\n"
     ]
    },
    {
     "data": {
      "image/png": "[encoded data removed]",
      "text/plain": [
       "<Figure size 576x684 with 2 Axes>"
      ]
     },
     "metadata": {},
     "output_type": "display_data"
    }
   ],
   "source": [
    "learner_r_no_p.plot_shap_values(X = X3.values,\n",
    "                                features=X3.columns,\n",
    "                                tau = cate_r_no_p)"
   ]
  },
  {
   "cell_type": "code",
   "execution_count": null,
   "metadata": {},
   "outputs": [],
   "source": []
  }
 ],
 "metadata": {
  "kernelspec": {
   "display_name": "Python 3",
   "language": "python",
   "name": "python3"
  },
  "language_info": {
   "codemirror_mode": {
    "name": "ipython",
    "version": 3
   },
   "file_extension": ".py",
   "mimetype": "text/x-python",
   "name": "python",
   "nbconvert_exporter": "python",
   "pygments_lexer": "ipython3",
   "version": "3.8.10"
  },
  "toc": {
   "base_numbering": 1,
   "nav_menu": {},
   "number_sections": true,
   "sideBar": true,
   "skip_h1_title": false,
   "title_cell": "Table of Contents",
   "title_sidebar": "Contents",
   "toc_cell": false,
   "toc_position": {
    "height": "calc(100% - 180px)",
    "left": "10px",
    "top": "150px",
    "width": "204.8px"
   },
   "toc_section_display": true,
   "toc_window_display": false
  }
 },
 "nbformat": 4,
 "nbformat_minor": 4
}
