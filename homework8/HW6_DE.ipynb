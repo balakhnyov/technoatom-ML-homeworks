{
  "nbformat": 4,
  "nbformat_minor": 0,
  "metadata": {
    "colab": {
      "name": "HW6_DE",
      "provenance": [],
      "collapsed_sections": [],
      "include_colab_link": true
    },
    "kernelspec": {
      "name": "python3",
      "display_name": "Python 3"
    }
  },
  "cells": [
    {
      "cell_type": "markdown",
      "metadata": {
        "id": "view-in-github",
        "colab_type": "text"
      },
      "source": [
        "<a href=\"https://colab.research.google.com/github/balakhnyov/technoatom-ML-homeworks/blob/main/homework8/HW6_DE.ipynb\" target=\"_parent\"><img src=\"https://colab.research.google.com/assets/colab-badge.svg\" alt=\"Open In Colab\"/></a>"
      ]
    },
    {
      "cell_type": "code",
      "metadata": {
        "id": "RumFnRay9oEM",
        "colab": {
          "base_uri": "https://localhost:8080/"
        },
        "outputId": "1bf22eac-7738-468d-dbbc-c2bcd0fcf270"
      },
      "source": [
        "!pip install pyspark\n",
        "!pip install -U -q PyDrive\n",
        "!apt install openjdk-8-jdk-headless -qq\n",
        "import os\n",
        "os.environ[\"JAVA_HOME\"] = \"/usr/lib/jvm/java-8-openjdk-amd64\""
      ],
      "execution_count": null,
      "outputs": [
        {
          "output_type": "stream",
          "text": [
            "Requirement already satisfied: pyspark in /usr/local/lib/python3.7/dist-packages (3.1.2)\n",
            "Requirement already satisfied: py4j==0.10.9 in /usr/local/lib/python3.7/dist-packages (from pyspark) (0.10.9)\n",
            "openjdk-8-jdk-headless is already the newest version (8u292-b10-0ubuntu1~18.04).\n",
            "The following package was automatically installed and is no longer required:\n",
            "  libnvidia-common-460\n",
            "Use 'apt autoremove' to remove it.\n",
            "0 upgraded, 0 newly installed, 0 to remove and 34 not upgraded.\n"
          ],
          "name": "stdout"
        }
      ]
    },
    {
      "cell_type": "code",
      "metadata": {
        "id": "68_AeFo49pEU"
      },
      "source": [
        "from pydrive.auth import GoogleAuth\n",
        "from pydrive.drive import GoogleDrive\n",
        "from google.colab import auth\n",
        "from oauth2client.client import GoogleCredentials\n",
        "\n",
        "auth.authenticate_user()\n",
        "gauth = GoogleAuth()\n",
        "gauth.credentials = GoogleCredentials.get_application_default()\n",
        "drive = GoogleDrive(gauth)"
      ],
      "execution_count": null,
      "outputs": []
    },
    {
      "cell_type": "code",
      "metadata": {
        "id": "ftRUvQn89-yC"
      },
      "source": [
        "id='1f_9EbnywCj35EBUA32sueigxBjBJwALr'\n",
        "downloaded = drive.CreateFile({'id': id})\n",
        "downloaded.GetContentFile('War and Peace by Leo Tolstoy (ru).txt')"
      ],
      "execution_count": null,
      "outputs": []
    },
    {
      "cell_type": "code",
      "metadata": {
        "id": "LpR8DQxm-IRN"
      },
      "source": [
        "import pandas as pd\n",
        "\n",
        "import pyspark\n",
        "from pyspark.sql import *\n",
        "from pyspark.sql.functions import *\n",
        "from pyspark import SparkContext, SparkConf"
      ],
      "execution_count": null,
      "outputs": []
    },
    {
      "cell_type": "code",
      "metadata": {
        "id": "w6qPAe12-Q19",
        "colab": {
          "base_uri": "https://localhost:8080/",
          "height": 260
        },
        "outputId": "ae7fb07c-8954-4ca9-d3b6-67db96863563"
      },
      "source": [
        "conf = SparkConf().set(\"spark.ui.port\", \"4050\")\n",
        "\n",
        "sc = pyspark.SparkContext(conf=conf)\n",
        "spark = SparkSession.builder.getOrCreate()"
      ],
      "execution_count": null,
      "outputs": [
        {
          "output_type": "error",
          "ename": "ValueError",
          "evalue": "ignored",
          "traceback": [
            "\u001b[0;31m---------------------------------------------------------------------------\u001b[0m",
            "\u001b[0;31mValueError\u001b[0m                                Traceback (most recent call last)",
            "\u001b[0;32m<ipython-input-62-52d3d31982f8>\u001b[0m in \u001b[0;36m<module>\u001b[0;34m()\u001b[0m\n\u001b[1;32m      1\u001b[0m \u001b[0mconf\u001b[0m \u001b[0;34m=\u001b[0m \u001b[0mSparkConf\u001b[0m\u001b[0;34m(\u001b[0m\u001b[0;34m)\u001b[0m\u001b[0;34m.\u001b[0m\u001b[0mset\u001b[0m\u001b[0;34m(\u001b[0m\u001b[0;34m\"spark.ui.port\"\u001b[0m\u001b[0;34m,\u001b[0m \u001b[0;34m\"4050\"\u001b[0m\u001b[0;34m)\u001b[0m\u001b[0;34m\u001b[0m\u001b[0;34m\u001b[0m\u001b[0m\n\u001b[1;32m      2\u001b[0m \u001b[0;34m\u001b[0m\u001b[0m\n\u001b[0;32m----> 3\u001b[0;31m \u001b[0msc\u001b[0m \u001b[0;34m=\u001b[0m \u001b[0mpyspark\u001b[0m\u001b[0;34m.\u001b[0m\u001b[0mSparkContext\u001b[0m\u001b[0;34m(\u001b[0m\u001b[0mconf\u001b[0m\u001b[0;34m=\u001b[0m\u001b[0mconf\u001b[0m\u001b[0;34m)\u001b[0m\u001b[0;34m\u001b[0m\u001b[0;34m\u001b[0m\u001b[0m\n\u001b[0m\u001b[1;32m      4\u001b[0m \u001b[0mspark\u001b[0m \u001b[0;34m=\u001b[0m \u001b[0mSparkSession\u001b[0m\u001b[0;34m.\u001b[0m\u001b[0mbuilder\u001b[0m\u001b[0;34m.\u001b[0m\u001b[0mgetOrCreate\u001b[0m\u001b[0;34m(\u001b[0m\u001b[0;34m)\u001b[0m\u001b[0;34m\u001b[0m\u001b[0;34m\u001b[0m\u001b[0m\n",
            "\u001b[0;32m/usr/local/lib/python3.7/dist-packages/pyspark/context.py\u001b[0m in \u001b[0;36m__init__\u001b[0;34m(self, master, appName, sparkHome, pyFiles, environment, batchSize, serializer, conf, gateway, jsc, profiler_cls)\u001b[0m\n\u001b[1;32m    142\u001b[0m                 \" is not allowed as it is a security risk.\")\n\u001b[1;32m    143\u001b[0m \u001b[0;34m\u001b[0m\u001b[0m\n\u001b[0;32m--> 144\u001b[0;31m         \u001b[0mSparkContext\u001b[0m\u001b[0;34m.\u001b[0m\u001b[0m_ensure_initialized\u001b[0m\u001b[0;34m(\u001b[0m\u001b[0mself\u001b[0m\u001b[0;34m,\u001b[0m \u001b[0mgateway\u001b[0m\u001b[0;34m=\u001b[0m\u001b[0mgateway\u001b[0m\u001b[0;34m,\u001b[0m \u001b[0mconf\u001b[0m\u001b[0;34m=\u001b[0m\u001b[0mconf\u001b[0m\u001b[0;34m)\u001b[0m\u001b[0;34m\u001b[0m\u001b[0;34m\u001b[0m\u001b[0m\n\u001b[0m\u001b[1;32m    145\u001b[0m         \u001b[0;32mtry\u001b[0m\u001b[0;34m:\u001b[0m\u001b[0;34m\u001b[0m\u001b[0;34m\u001b[0m\u001b[0m\n\u001b[1;32m    146\u001b[0m             self._do_init(master, appName, sparkHome, pyFiles, environment, batchSize, serializer,\n",
            "\u001b[0;32m/usr/local/lib/python3.7/dist-packages/pyspark/context.py\u001b[0m in \u001b[0;36m_ensure_initialized\u001b[0;34m(cls, instance, gateway, conf)\u001b[0m\n\u001b[1;32m    345\u001b[0m                         \u001b[0;34m\" created by %s at %s:%s \"\u001b[0m\u001b[0;34m\u001b[0m\u001b[0;34m\u001b[0m\u001b[0m\n\u001b[1;32m    346\u001b[0m                         % (currentAppName, currentMaster,\n\u001b[0;32m--> 347\u001b[0;31m                             callsite.function, callsite.file, callsite.linenum))\n\u001b[0m\u001b[1;32m    348\u001b[0m                 \u001b[0;32melse\u001b[0m\u001b[0;34m:\u001b[0m\u001b[0;34m\u001b[0m\u001b[0;34m\u001b[0m\u001b[0m\n\u001b[1;32m    349\u001b[0m                     \u001b[0mSparkContext\u001b[0m\u001b[0;34m.\u001b[0m\u001b[0m_active_spark_context\u001b[0m \u001b[0;34m=\u001b[0m \u001b[0minstance\u001b[0m\u001b[0;34m\u001b[0m\u001b[0;34m\u001b[0m\u001b[0m\n",
            "\u001b[0;31mValueError\u001b[0m: Cannot run multiple SparkContexts at once; existing SparkContext(app=pyspark-shell, master=local[*]) created by __init__ at <ipython-input-6-52d3d31982f8>:3 "
          ]
        }
      ]
    },
    {
      "cell_type": "code",
      "metadata": {
        "id": "2E-RdW9y-U1o",
        "colab": {
          "base_uri": "https://localhost:8080/",
          "height": 219
        },
        "outputId": "1e56cec3-2a5b-4c31-e263-1d67fe2e69fe"
      },
      "source": [
        "spark"
      ],
      "execution_count": null,
      "outputs": [
        {
          "output_type": "execute_result",
          "data": {
            "text/html": [
              "\n",
              "            <div>\n",
              "                <p><b>SparkSession - in-memory</b></p>\n",
              "                \n",
              "        <div>\n",
              "            <p><b>SparkContext</b></p>\n",
              "\n",
              "            <p><a href=\"http://bb5493b4dca8:4050\">Spark UI</a></p>\n",
              "\n",
              "            <dl>\n",
              "              <dt>Version</dt>\n",
              "                <dd><code>v3.1.2</code></dd>\n",
              "              <dt>Master</dt>\n",
              "                <dd><code>local[*]</code></dd>\n",
              "              <dt>AppName</dt>\n",
              "                <dd><code>pyspark-shell</code></dd>\n",
              "            </dl>\n",
              "        </div>\n",
              "        \n",
              "            </div>\n",
              "        "
            ],
            "text/plain": [
              "<pyspark.sql.session.SparkSession at 0x7f79b75ed890>"
            ]
          },
          "metadata": {
            "tags": []
          },
          "execution_count": 63
        }
      ]
    },
    {
      "cell_type": "markdown",
      "metadata": {
        "id": "uQRHs49qdDeU"
      },
      "source": [
        "*`ngrok может отработать не с первого раза, повторите при необходимости.`*"
      ]
    },
    {
      "cell_type": "code",
      "metadata": {
        "id": "T6LU3RGy-Yag",
        "colab": {
          "base_uri": "https://localhost:8080/"
        },
        "outputId": "fec5e858-6985-4cf9-92c7-657101976aac"
      },
      "source": [
        "!wget https://bin.equinox.io/c/4VmDzA7iaHb/ngrok-stable-linux-amd64.zip\n",
        "!unzip ngrok-stable-linux-amd64.zip\n",
        "get_ipython().system_raw('./ngrok http 4050 &')\n",
        "!curl -s http://localhost:4040/api/tunnels | python3 -c \\\n",
        "    \"import sys, json; print(json.load(sys.stdin)['tunnels'][0]['public_url'])\""
      ],
      "execution_count": null,
      "outputs": [
        {
          "output_type": "stream",
          "text": [
            "--2021-06-02 18:02:01--  https://bin.equinox.io/c/4VmDzA7iaHb/ngrok-stable-linux-amd64.zip\n",
            "Resolving bin.equinox.io (bin.equinox.io)... 54.204.235.80, 34.233.212.111, 3.211.204.50, ...\n",
            "Connecting to bin.equinox.io (bin.equinox.io)|54.204.235.80|:443... connected.\n",
            "HTTP request sent, awaiting response... 200 OK\n",
            "Length: 13832437 (13M) [application/octet-stream]\n",
            "Saving to: ‘ngrok-stable-linux-amd64.zip.1’\n",
            "\n",
            "ngrok-stable-linux- 100%[===================>]  13.19M  52.6MB/s    in 0.3s    \n",
            "\n",
            "2021-06-02 18:02:01 (52.6 MB/s) - ‘ngrok-stable-linux-amd64.zip.1’ saved [13832437/13832437]\n",
            "\n",
            "Archive:  ngrok-stable-linux-amd64.zip\n",
            "replace ngrok? [y]es, [n]o, [A]ll, [N]one, [r]ename: y\n",
            "  inflating: ngrok                   \n",
            "https://9717536701d3.ngrok.io\n"
          ],
          "name": "stdout"
        }
      ]
    },
    {
      "cell_type": "markdown",
      "metadata": {
        "id": "bgte5waWKrpd"
      },
      "source": [
        "Подсчитай кол-во слов в документе \"War and Peace by Leo Tolstoy (ru).txt\""
      ]
    },
    {
      "cell_type": "code",
      "metadata": {
        "id": "F7AYXXsTKqjm"
      },
      "source": [
        "ss = SparkSession(sc)"
      ],
      "execution_count": null,
      "outputs": []
    },
    {
      "cell_type": "code",
      "metadata": {
        "id": "jUESw3nyewR_"
      },
      "source": [
        "wp = ss.read.csv(\"War and Peace by Leo Tolstoy (ru).txt\", sep='%s\\t%s', encoding='windows-1251', header='true', inferSchema='true',)"
      ],
      "execution_count": null,
      "outputs": []
    },
    {
      "cell_type": "code",
      "metadata": {
        "colab": {
          "base_uri": "https://localhost:8080/"
        },
        "id": "KXXVWgvOgXY1",
        "outputId": "4f8a1965-2a39-44c5-adba-6e8dba46ae74"
      },
      "source": [
        "wp.show(10)"
      ],
      "execution_count": null,
      "outputs": [
        {
          "output_type": "stream",
          "text": [
            "+--------------------+\n",
            "|Война и мир. Книга 1|\n",
            "+--------------------+\n",
            "|Лев Николаевич То...|\n",
            "|      Война и мир #1|\n",
            "|В книгу вошли пер...|\n",
            "|          Том первый|\n",
            "|        Часть первая|\n",
            "|                   I|\n",
            "|– Eh bien, mon pr...|\n",
            "|Так говорила в ию...|\n",
            "|«Si vous n’avez r...|\n",
            "|– Dieu, quelle vi...|\n",
            "+--------------------+\n",
            "only showing top 10 rows\n",
            "\n"
          ],
          "name": "stdout"
        }
      ]
    },
    {
      "cell_type": "code",
      "metadata": {
        "colab": {
          "base_uri": "https://localhost:8080/"
        },
        "id": "A3ZBNNa_exVh",
        "outputId": "a5b4d9d6-7705-430a-eca5-0af349641658"
      },
      "source": [
        "wp.filter(length(col(\"`Война и мир. Книга 1`\")) > 0).withColumn(\"words\", split(col(\"`Война и мир. Книга 1`\"), \"\\\\s+\")).select(explode(col(\"words\"))).show(20)"
      ],
      "execution_count": null,
      "outputs": [
        {
          "output_type": "stream",
          "text": [
            "+----------+\n",
            "|       col|\n",
            "+----------+\n",
            "|       Лев|\n",
            "|Николаевич|\n",
            "|   Толстой|\n",
            "|     Война|\n",
            "|         и|\n",
            "|       мир|\n",
            "|        #1|\n",
            "|         В|\n",
            "|     книгу|\n",
            "|     вошли|\n",
            "|    первый|\n",
            "|         и|\n",
            "|    второй|\n",
            "|      тома|\n",
            "|    романа|\n",
            "|    «Война|\n",
            "|         и|\n",
            "|      мир»|\n",
            "|         –|\n",
            "|    одного|\n",
            "+----------+\n",
            "only showing top 20 rows\n",
            "\n"
          ],
          "name": "stdout"
        }
      ]
    },
    {
      "cell_type": "code",
      "metadata": {
        "colab": {
          "base_uri": "https://localhost:8080/"
        },
        "id": "gKDnmkIEexib",
        "outputId": "9a6ca42d-de0e-4e61-a2c4-92c268076375"
      },
      "source": [
        "wp.filter(length(col(\"`Война и мир. Книга 1`\")) > 0).withColumn(\"words\", split(col(\"`Война и мир. Книга 1`\"), \"\\\\s+\")).select(explode(col(\"words\"))).describe().show()"
      ],
      "execution_count": null,
      "outputs": [
        {
          "output_type": "stream",
          "text": [
            "+-------+------------------+\n",
            "|summary|               col|\n",
            "+-------+------------------+\n",
            "|  count|            475218|\n",
            "|   mean| 320.5295652173913|\n",
            "| stddev|435.44152087066476|\n",
            "|    min|                  |\n",
            "|    max|            № 178.|\n",
            "+-------+------------------+\n",
            "\n"
          ],
          "name": "stdout"
        }
      ]
    },
    {
      "cell_type": "code",
      "metadata": {
        "id": "MJgmIgCzLJTo"
      },
      "source": [
        "id='13yfAoONwq4rS5XrTv3IrcqcFcdgfvK9V'\n",
        "downloaded = drive.CreateFile({'id': id})\n",
        "downloaded.GetContentFile('mnist-digits-train.txt')\n",
        "\n",
        "id='1VE_9x0LQvOJpHXbXp_RMPl3Q4wRUuOok'\n",
        "downloaded = drive.CreateFile({'id': id})\n",
        "downloaded.GetContentFile('mnist-digits-test.txt')"
      ],
      "execution_count": null,
      "outputs": []
    },
    {
      "cell_type": "code",
      "metadata": {
        "id": "7lPUUuQsQV4F"
      },
      "source": [
        "training = spark.read.format(\"libsvm\") \\\n",
        "  .option(\"numFeatures\", \"784\") \\\n",
        "  .load(\"./mnist-digits-train.txt\")\n",
        "test = spark.read.format(\"libsvm\") \\\n",
        "  .option(\"numFeatures\", \"784\") \\\n",
        "  .load(\"./mnist-digits-test.txt\")"
      ],
      "execution_count": null,
      "outputs": []
    },
    {
      "cell_type": "code",
      "metadata": {
        "id": "3p7bcAnkgKtz"
      },
      "source": [
        "sidxr = feature.StringIndexer(inputCol=\"label\", outputCol=\"indxLabel\").fit(training)"
      ],
      "execution_count": null,
      "outputs": []
    },
    {
      "cell_type": "code",
      "metadata": {
        "id": "hvhBDuwdia8Y"
      },
      "source": [
        "vidxr = feature.VectorIndexer(inputCol=\"features\", outputCol=\"inxFeatures\", handleInvalid='skip').fit(training)"
      ],
      "execution_count": null,
      "outputs": []
    },
    {
      "cell_type": "code",
      "metadata": {
        "id": "8KWQPQGEixhY"
      },
      "source": [
        "decision_tree = classification.DecisionTreeClassifier(labelCol=\"indxLabel\", featuresCol=\"inxFeatures\")"
      ],
      "execution_count": null,
      "outputs": []
    },
    {
      "cell_type": "code",
      "metadata": {
        "id": "ynV5j9Kwiy-j"
      },
      "source": [
        "pipeline = Pipeline(stages=[sidxr, vidxr, decision_tree])"
      ],
      "execution_count": null,
      "outputs": []
    },
    {
      "cell_type": "code",
      "metadata": {
        "id": "ai7W3MLKjXgy"
      },
      "source": [
        "model = pipeline.fit(training)"
      ],
      "execution_count": null,
      "outputs": []
    },
    {
      "cell_type": "code",
      "metadata": {
        "id": "o6mq5vxwjYEC"
      },
      "source": [
        "prediction= model.transform(test)"
      ],
      "execution_count": null,
      "outputs": []
    },
    {
      "cell_type": "code",
      "metadata": {
        "colab": {
          "base_uri": "https://localhost:8080/"
        },
        "id": "0YIcCKBigshd",
        "outputId": "45d44b56-8122-4216-fb24-719f632f8e8b"
      },
      "source": [
        "eval = evaluation.MulticlassClassificationEvaluator(labelCol=\"indxLabel\", predictionCol=\"prediction\", metricName=\"accuracy\")\n",
        "accuracy = eval.evaluate(prediction)\n",
        "accuracy"
      ],
      "execution_count": null,
      "outputs": [
        {
          "output_type": "execute_result",
          "data": {
            "text/plain": [
              "0.6793041029766693"
            ]
          },
          "metadata": {
            "tags": []
          },
          "execution_count": 81
        }
      ]
    },
    {
      "cell_type": "markdown",
      "metadata": {
        "id": "vSU-TTUvNaON"
      },
      "source": [
        "Необходимо обучить модель используя Spark MLlib (модель на ваш выбор, например Decision Tree) и получить accuracy.\n",
        "Подробнее тут: https://spark.apache.org/docs/latest/ml-classification-regression.html"
      ]
    },
    {
      "cell_type": "markdown",
      "metadata": {
        "id": "hv-s45P8Oy8Q"
      },
      "source": [
        "Тут лежат данные для решения задач на sql. Необходимо написать код который формирует из данных датафреймы и используя sqlContext написать sql код с решением. Приветствуется наличие нескольких вариантов решения задачи."
      ]
    },
    {
      "cell_type": "code",
      "metadata": {
        "id": "yKMztZ2eOOrE",
        "colab": {
          "base_uri": "https://localhost:8080/"
        },
        "outputId": "35cf95b5-06fd-4236-9840-d7df84870f70"
      },
      "source": [
        "id='1kUIrskM0zNH8u71G9M1BkHjRQYxvgAvh'\n",
        "downloaded = drive.CreateFile({'id': id})\n",
        "downloaded.GetContentFile('data.zip')\n",
        "!unzip data.zip"
      ],
      "execution_count": null,
      "outputs": [
        {
          "output_type": "stream",
          "text": [
            "Archive:  data.zip\n",
            "   creating: data/\n",
            "  inflating: data/regions.csv        \n",
            "  inflating: data/departments.csv    \n",
            "  inflating: data/jobs.csv           \n",
            "  inflating: data/locations.csv      \n",
            "  inflating: data/country.csv        \n",
            "  inflating: data/employees.csv      \n",
            "  inflating: data/job_history.csv    \n"
          ],
          "name": "stdout"
        }
      ]
    },
    {
      "cell_type": "code",
      "metadata": {
        "id": "kgZAwKB99wO9"
      },
      "source": [
        "from pyspark.sql import SQLContext\n",
        "from pyspark.sql.types import IntegerType, DateType\n",
        "from pyspark.sql.functions import unix_timestamp, from_unixtime\n",
        "sqlContext = SQLContext(sc)"
      ],
      "execution_count": null,
      "outputs": []
    },
    {
      "cell_type": "code",
      "metadata": {
        "colab": {
          "base_uri": "https://localhost:8080/"
        },
        "id": "n8SlR_r1D0vu",
        "outputId": "c42e7a01-0c9e-4363-f3c2-e90ca08e3bd9"
      },
      "source": [
        "regions = sqlContext.read.format(\"csv\").option(\"header\",\"true\").option(\"delimiter\",\"\\t\").load('/content/data/regions.csv')\n",
        "regions.registerTempTable(\"regions\")\n",
        "regions.show()"
      ],
      "execution_count": null,
      "outputs": [
        {
          "output_type": "stream",
          "text": [
            "+---------+--------------------+\n",
            "|REGION_ID|         REGION_NAME|\n",
            "+---------+--------------------+\n",
            "|        1|              Europe|\n",
            "|        2|            Americas|\n",
            "|        3|                Asia|\n",
            "|        4|Middle East and A...|\n",
            "+---------+--------------------+\n",
            "\n"
          ],
          "name": "stdout"
        }
      ]
    },
    {
      "cell_type": "code",
      "metadata": {
        "colab": {
          "base_uri": "https://localhost:8080/"
        },
        "id": "uOALhtHBD1Le",
        "outputId": "4caf0f55-8b49-452c-e13c-4ccbcd849b8b"
      },
      "source": [
        "locations = sqlContext.read.format(\"csv\").option(\"header\",\"true\").option(\"delimiter\",\"\\t\").load('/content/data/locations.csv')\n",
        "locations.registerTempTable(\"locations\")\n",
        "locations.show()"
      ],
      "execution_count": null,
      "outputs": [
        {
          "output_type": "stream",
          "text": [
            "+-----------+--------------------+-----------+-------------------+----------------+----------+\n",
            "|LOCATION_ID|      STREET_ADDRESS|POSTAL_CODE|               CITY|  STATE_PROVINCE|COUNTRY_ID|\n",
            "+-----------+--------------------+-----------+-------------------+----------------+----------+\n",
            "|       1000|1297 Via Cola di Rie|      00989|               Roma|            null|        IT|\n",
            "|       1100|93091 Calle della...|      10934|             Venice|            null|        IT|\n",
            "|       1200|    2017 Shinjuku-ku|       1689|              Tokyo|Tokyo Prefecture|        JP|\n",
            "|       1300|     9450 Kamiya-cho|       6823|          Hiroshima|            null|        JP|\n",
            "|       1400| 2014 Jabberwocky Rd|      26192|          Southlake|           Texas|        US|\n",
            "|       1500| 2011 Interiors Blvd|      99236|South San Francisco|      California|        US|\n",
            "|       1600|      2007 Zagora St|      50090|    South Brunswick|      New Jersey|        US|\n",
            "|       1700|     2004 Charade Rd|      98199|            Seattle|      Washington|        US|\n",
            "|       1800|     147 Spadina Ave|    M5V 2L7|            Toronto|         Ontario|        CA|\n",
            "|       1900|     6092 Boxwood St|    YSW 9T2|         Whitehorse|           Yukon|        CA|\n",
            "|       2000| 40-5-12 Laogianggen|     190518|            Beijing|            null|        CN|\n",
            "|       2100|  1298 Vileparle (E)|     490231|             Bombay|     Maharashtra|        IN|\n",
            "|       2200|12-98 Victoria St...|       2901|             Sydney| New South Wales|        AU|\n",
            "|       2300|  198 Clementi North|     540198|          Singapore|            null|        SG|\n",
            "|       2400|      8204 Arthur St|       null|             London|            null|        UK|\n",
            "|       2500|Magdalen Centre, ...|    OX9 9ZB|             Oxford|          Oxford|        UK|\n",
            "|       2600|   9702 Chester Road|09629850293|          Stretford|      Manchester|        UK|\n",
            "|       2700|Schwanthalerstr. ...|      80925|             Munich|         Bavaria|        DE|\n",
            "|       2800|Rua Frei Caneca 1...|  01307-002|          Sao Paulo|       Sao Paulo|        BR|\n",
            "|       2900|20 Rue des Corps-...|       1730|             Geneva|          Geneve|        CH|\n",
            "+-----------+--------------------+-----------+-------------------+----------------+----------+\n",
            "only showing top 20 rows\n",
            "\n"
          ],
          "name": "stdout"
        }
      ]
    },
    {
      "cell_type": "code",
      "metadata": {
        "colab": {
          "base_uri": "https://localhost:8080/"
        },
        "id": "udZGHnwQD1X_",
        "outputId": "faa51ebe-3820-4f43-dcfb-96c3c298c2a5"
      },
      "source": [
        "jobs = sqlContext.read.format(\"csv\").option(\"header\",\"true\").option(\"delimiter\",\"\\t\").load('/content/data/jobs.csv')\n",
        "jobs.registerTempTable(\"jobs\")\n",
        "jobs.show()"
      ],
      "execution_count": null,
      "outputs": [
        {
          "output_type": "stream",
          "text": [
            "+----------+--------------------+----------+----------+\n",
            "|    JOB_ID|           JOB_TITLE|MIN_SALARY|MAX_SALARY|\n",
            "+----------+--------------------+----------+----------+\n",
            "|   AD_PRES|           President|     20080|     40000|\n",
            "|     AD_VP|Administration Vi...|     15000|     30000|\n",
            "|   AD_ASST|Administration As...|      3000|      6000|\n",
            "|    FI_MGR|     Finance Manager|      8200|     16000|\n",
            "|FI_ACCOUNT|          Accountant|      4200|      9000|\n",
            "|    AC_MGR|  Accounting Manager|      8200|     16000|\n",
            "|AC_ACCOUNT|   Public Accountant|      4200|      9000|\n",
            "|    SA_MAN|       Sales Manager|     10000|     20080|\n",
            "|    SA_REP|Sales Representative|      6000|     12008|\n",
            "|    PU_MAN|  Purchasing Manager|      8000|     15000|\n",
            "|  PU_CLERK|    Purchasing Clerk|      2500|      5500|\n",
            "|    ST_MAN|       Stock Manager|      5500|      8500|\n",
            "|  ST_CLERK|         Stock Clerk|      2008|      5000|\n",
            "|  SH_CLERK|      Shipping Clerk|      2500|      5500|\n",
            "|   IT_PROG|          Programmer|      4000|     10000|\n",
            "|    MK_MAN|   Marketing Manager|      9000|     15000|\n",
            "|    MK_REP|Marketing Represe...|      4000|      9000|\n",
            "|    HR_REP|Human Resources R...|      4000|      9000|\n",
            "|    PR_REP|Public Relations ...|      4500|     10500|\n",
            "+----------+--------------------+----------+----------+\n",
            "\n"
          ],
          "name": "stdout"
        }
      ]
    },
    {
      "cell_type": "code",
      "metadata": {
        "colab": {
          "base_uri": "https://localhost:8080/"
        },
        "id": "9BlZHPXeD1ia",
        "outputId": "6f5d6691-6840-49e3-ff54-ca285a4ef28e"
      },
      "source": [
        "job_history = sqlContext.read.format(\"csv\").option(\"header\",\"true\").option(\"delimiter\",\"\\t\").load('/content/data/job_history.csv')\n",
        "job_history.registerTempTable(\"job_history\")\n",
        "job_history.show()"
      ],
      "execution_count": null,
      "outputs": [
        {
          "output_type": "stream",
          "text": [
            "+-----------+----------+--------+----------+-------------+\n",
            "|EMPLOYEE_ID|START_DATE|END_DATE|    JOB_ID|DEPARTMENT_ID|\n",
            "+-----------+----------+--------+----------+-------------+\n",
            "|        102|  13.01.01|24.07.06|   IT_PROG|           60|\n",
            "|        101|  21.09.97|27.10.01|AC_ACCOUNT|          110|\n",
            "|        101|  28.10.01|15.03.05|    AC_MGR|          110|\n",
            "|        201|  17.02.04|19.12.07|    MK_REP|           20|\n",
            "|        114|  24.03.06|31.12.07|  ST_CLERK|           50|\n",
            "|        122|  01.01.07|31.12.07|  ST_CLERK|           50|\n",
            "|        200|  17.09.95|17.06.01|   AD_ASST|           90|\n",
            "|        176|  24.03.06|31.12.06|    SA_REP|           80|\n",
            "|        176|  01.01.07|31.12.07|    SA_MAN|           80|\n",
            "|        200|  01.07.02|31.12.06|AC_ACCOUNT|           90|\n",
            "+-----------+----------+--------+----------+-------------+\n",
            "\n"
          ],
          "name": "stdout"
        }
      ]
    },
    {
      "cell_type": "code",
      "metadata": {
        "id": "iR_Q9YbFD1vl"
      },
      "source": [
        "employees = sqlContext.read.format(\"csv\").option(\"header\",\"true\").option(\"delimiter\",\"\\t\").load('/content/data/employees.csv')\n",
        "employees.registerTempTable(\"employees\")\n",
        "employees.show()"
      ],
      "execution_count": null,
      "outputs": []
    },
    {
      "cell_type": "code",
      "metadata": {
        "colab": {
          "base_uri": "https://localhost:8080/"
        },
        "id": "8ZSxJ1cSHEKI",
        "outputId": "7213d2ca-8fb7-46a1-fe00-126b2d30d656"
      },
      "source": [
        "departments = sqlContext.read.format(\"csv\").option(\"header\",\"true\").option(\"delimiter\",\"\\t\").load('/content/data/departments.csv')\n",
        "departments.registerTempTable(\"departments\")\n",
        "departments.show(10)"
      ],
      "execution_count": null,
      "outputs": [
        {
          "output_type": "stream",
          "text": [
            "+-------------+----------------+----------+-----------+\n",
            "|DEPARTMENT_ID| DEPARTMENT_NAME|MANAGER_ID|LOCATION_ID|\n",
            "+-------------+----------------+----------+-----------+\n",
            "|           10|  Administration|       200|       1700|\n",
            "|           20|       Marketing|       201|       1800|\n",
            "|           30|      Purchasing|       114|       1700|\n",
            "|           40| Human Resources|       203|       2400|\n",
            "|           50|        Shipping|       121|       1500|\n",
            "|           60|              IT|       103|       1400|\n",
            "|           70|Public Relations|       204|       2700|\n",
            "|           80|           Sales|       145|       2500|\n",
            "|           90|       Executive|       100|       1700|\n",
            "|          100|         Finance|       108|       1700|\n",
            "+-------------+----------------+----------+-----------+\n",
            "only showing top 10 rows\n",
            "\n"
          ],
          "name": "stdout"
        }
      ]
    },
    {
      "cell_type": "code",
      "metadata": {
        "colab": {
          "base_uri": "https://localhost:8080/"
        },
        "id": "NGI3XuPdHE2a",
        "outputId": "c709f44c-5b21-4fe0-a7b4-b9e7d00c0a0e"
      },
      "source": [
        "country = sqlContext.read.format(\"csv\").option(\"header\",\"true\").option(\"delimiter\",\"\\t\").load('/content/data/country.csv')\n",
        "country.registerTempTable(\"country\")\n",
        "country.show()"
      ],
      "execution_count": null,
      "outputs": [
        {
          "output_type": "stream",
          "text": [
            "+----------+------------+---------+\n",
            "|COUNTRY_ID|COUNTRY_NAME|REGION_ID|\n",
            "+----------+------------+---------+\n",
            "|        AR|   Argentina|        2|\n",
            "|        AU|   Australia|        3|\n",
            "|        BE|     Belgium|        1|\n",
            "|        BR|      Brazil|        2|\n",
            "|        CA|      Canada|        2|\n",
            "|        CH| Switzerland|        1|\n",
            "|        CN|       China|        3|\n",
            "|        DE|     Germany|        1|\n",
            "|        DK|     Denmark|        1|\n",
            "|        EG|       Egypt|        4|\n",
            "|        FR|      France|        1|\n",
            "|        IL|      Israel|        4|\n",
            "|        IN|       India|        3|\n",
            "|        IT|       Italy|        1|\n",
            "|        JP|       Japan|        3|\n",
            "|        KW|      Kuwait|        4|\n",
            "|        ML|    Malaysia|        3|\n",
            "|        MX|      Mexico|        2|\n",
            "|        NG|     Nigeria|        4|\n",
            "|        NL| Netherlands|        1|\n",
            "+----------+------------+---------+\n",
            "only showing top 20 rows\n",
            "\n"
          ],
          "name": "stdout"
        }
      ]
    },
    {
      "cell_type": "markdown",
      "metadata": {
        "id": "v43K2fDAjUYb"
      },
      "source": [
        "Кто получает больше всего? Кто меньше всего?"
      ]
    },
    {
      "cell_type": "markdown",
      "metadata": {
        "id": "zg8-rkFlkMqm"
      },
      "source": [
        "Выведете топ 5 по зарплате."
      ]
    },
    {
      "cell_type": "code",
      "metadata": {
        "id": "hXE1DT3FTtCP"
      },
      "source": [
        "employees = employees.withColumn(\"SALARY\", employees[\"SALARY\"].cast(IntegerType()))"
      ],
      "execution_count": null,
      "outputs": []
    },
    {
      "cell_type": "code",
      "metadata": {
        "id": "QU9KO3nVYFQP"
      },
      "source": [
        "employees.registerTempTable(\"employees\")"
      ],
      "execution_count": null,
      "outputs": []
    },
    {
      "cell_type": "code",
      "metadata": {
        "id": "SMzJ_tJhnWuV",
        "colab": {
          "base_uri": "https://localhost:8080/"
        },
        "outputId": "455fbdb1-ad82-4abe-b067-61f30d2b9cd3"
      },
      "source": [
        "sqlContext.sql(\"\"\"\n",
        "SELECT * FROM employees\n",
        "  WHERE SALARY = (SELECT MAX(SALARY) FROM employees)\n",
        "\"\"\").show()"
      ],
      "execution_count": null,
      "outputs": [
        {
          "output_type": "stream",
          "text": [
            "+-----------+----------+---------+-----+------------+---------+-------+------+--------------+----------+-------------+\n",
            "|EMPLOYEE_ID|FIRST_NAME|LAST_NAME|EMAIL|PHONE_NUMBER|HIRE_DATE| JOB_ID|SALARY|COMMISSION_PCT|MANAGER_ID|DEPARTMENT_ID|\n",
            "+-----------+----------+---------+-----+------------+---------+-------+------+--------------+----------+-------------+\n",
            "|        100|    Steven|     King|SKING|515.123.4567| 17.06.03|AD_PRES| 24000|          null|      null|           90|\n",
            "+-----------+----------+---------+-----+------------+---------+-------+------+--------------+----------+-------------+\n",
            "\n"
          ],
          "name": "stdout"
        }
      ]
    },
    {
      "cell_type": "code",
      "metadata": {
        "colab": {
          "base_uri": "https://localhost:8080/"
        },
        "id": "uneH4PaJP5By",
        "outputId": "8a12961f-f0ff-45e6-a127-0d5c80e0d868"
      },
      "source": [
        "sqlContext.sql(\"\"\"\n",
        "SELECT FIRST_NAME, LAST_NAME FROM, SALARY FROM employees\n",
        "  WHERE SALARY = (SELECT MIN(SALARY) FROM employees)\n",
        "\"\"\").show()"
      ],
      "execution_count": null,
      "outputs": [
        {
          "output_type": "stream",
          "text": [
            "+----------+-----+------+\n",
            "|FIRST_NAME| FROM|SALARY|\n",
            "+----------+-----+------+\n",
            "|        TJ|Olson|  2100|\n",
            "+----------+-----+------+\n",
            "\n"
          ],
          "name": "stdout"
        }
      ]
    },
    {
      "cell_type": "code",
      "metadata": {
        "colab": {
          "base_uri": "https://localhost:8080/"
        },
        "id": "c2Yr9J0wY3oM",
        "outputId": "4bb55fd4-16fb-4531-8c13-e7893b193293"
      },
      "source": [
        "sqlContext.sql(\"\"\"\n",
        "SELECT FIRST_NAME, LAST_NAME, SALARY, row_number() over(order by SALARY DESC) as rate FROM employees LIMIT 5\n",
        "\"\"\").show()"
      ],
      "execution_count": null,
      "outputs": [
        {
          "output_type": "stream",
          "text": [
            "+----------+---------+------+----+\n",
            "|FIRST_NAME|LAST_NAME|SALARY|rate|\n",
            "+----------+---------+------+----+\n",
            "|    Steven|     King| 24000|   1|\n",
            "|     Neena|  Kochhar| 17000|   2|\n",
            "|       Lex|  De Haan| 17000|   3|\n",
            "|      John|  Russell| 14000|   4|\n",
            "|     Karen| Partners| 13500|   5|\n",
            "+----------+---------+------+----+\n",
            "\n"
          ],
          "name": "stdout"
        }
      ]
    },
    {
      "cell_type": "markdown",
      "metadata": {
        "id": "JfBpDVYwkM7K"
      },
      "source": [
        "Сколько всего регионов? Сколько работников в каждом регионе?"
      ]
    },
    {
      "cell_type": "code",
      "metadata": {
        "id": "w2d2AiBknYSo",
        "colab": {
          "base_uri": "https://localhost:8080/"
        },
        "outputId": "f9cafc17-65d7-4465-86d9-1c7a60ddf8c5"
      },
      "source": [
        "sqlContext.sql(\"SELECT * FROM regions\").show()"
      ],
      "execution_count": null,
      "outputs": [
        {
          "output_type": "stream",
          "text": [
            "+---------+--------------------+\n",
            "|REGION_ID|         REGION_NAME|\n",
            "+---------+--------------------+\n",
            "|        1|              Europe|\n",
            "|        2|            Americas|\n",
            "|        3|                Asia|\n",
            "|        4|Middle East and A...|\n",
            "+---------+--------------------+\n",
            "\n"
          ],
          "name": "stdout"
        }
      ]
    },
    {
      "cell_type": "code",
      "metadata": {
        "colab": {
          "base_uri": "https://localhost:8080/"
        },
        "id": "EYol93R2ai-T",
        "outputId": "facca286-a3b7-4246-be15-8a1ef324616d"
      },
      "source": [
        "sqlContext.sql(\"\"\"\n",
        "SELECT count(EMPLOYEE_ID), REGION_ID FROM employees\n",
        "  WHERE SALARY = (SELECT min(salary) FROM employees)\n",
        "\"\"\").show()"
      ],
      "execution_count": null,
      "outputs": [
        {
          "output_type": "stream",
          "text": [
            "+------------------+---------+\n",
            "|count(EMPLOYEE_ID)|REGION_ID|\n",
            "+------------------+---------+\n",
            "|                36|        1|\n",
            "|                70|        2|\n",
            "|                 0|        3|\n",
            "|                 0|        4|\n",
            "+------------------+---------+\n",
            "\n"
          ],
          "name": "stdout"
        }
      ]
    },
    {
      "cell_type": "markdown",
      "metadata": {
        "id": "OOY2unJ8kNXz"
      },
      "source": [
        "Выведете всех работников из Китая."
      ]
    },
    {
      "cell_type": "code",
      "metadata": {
        "id": "5Lhj9GAwnZgK",
        "colab": {
          "base_uri": "https://localhost:8080/"
        },
        "outputId": "d9b501fd-762c-4a7d-8b0a-3732ea820120"
      },
      "source": [
        "sqlContext.sql(\"\"\"\n",
        "SELECT * FROM employees\n",
        "  FULL JOIN departments ON employees.DEPARTMENT_ID = departments.DEPARTMENT_ID\n",
        "    FULL JOIN locations ON locations.LOCATION_ID = departments.LOCATION_ID\n",
        "      FULL JOIN country ON country.COUNTRY_ID = locations.COUNTRY_ID\n",
        "        WHERE locations.COUNTRY_ID = 'CN'\n",
        "\"\"\").show()"
      ],
      "execution_count": null,
      "outputs": [
        {
          "output_type": "stream",
          "text": [
            "+-----------+----------+---------+-----+------------+---------+------+------+--------------+----------+-------------+-------------+---------------+----------+-----------+-----------+-------------------+-----------+-------+--------------+----------+----------+------------+---------+\n",
            "|EMPLOYEE_ID|FIRST_NAME|LAST_NAME|EMAIL|PHONE_NUMBER|HIRE_DATE|JOB_ID|SALARY|COMMISSION_PCT|MANAGER_ID|DEPARTMENT_ID|DEPARTMENT_ID|DEPARTMENT_NAME|MANAGER_ID|LOCATION_ID|LOCATION_ID|     STREET_ADDRESS|POSTAL_CODE|   CITY|STATE_PROVINCE|COUNTRY_ID|COUNTRY_ID|COUNTRY_NAME|REGION_ID|\n",
            "+-----------+----------+---------+-----+------------+---------+------+------+--------------+----------+-------------+-------------+---------------+----------+-----------+-----------+-------------------+-----------+-------+--------------+----------+----------+------------+---------+\n",
            "|       null|      null|     null| null|        null|     null|  null|  null|          null|      null|         null|         null|           null|      null|       null|       2000|40-5-12 Laogianggen|     190518|Beijing|          null|        CN|        CN|       China|        3|\n",
            "+-----------+----------+---------+-----+------------+---------+------+------+--------------+----------+-------------+-------------+---------------+----------+-----------+-----------+-------------------+-----------+-------+--------------+----------+----------+------------+---------+\n",
            "\n"
          ],
          "name": "stdout"
        }
      ]
    },
    {
      "cell_type": "markdown",
      "metadata": {
        "id": "s1Nc8F-6kNR7"
      },
      "source": [
        "Укажите самую высокооплачиваемою должность."
      ]
    },
    {
      "cell_type": "code",
      "metadata": {
        "id": "YOPRGQOQdUhi"
      },
      "source": [
        "jobs = jobs.withColumn(\"MAX_SALARY\", jobs[\"MAX_SALARY\"].cast(IntegerType()))\n",
        "jobs.registerTempTable(\"jobs\")"
      ],
      "execution_count": null,
      "outputs": []
    },
    {
      "cell_type": "code",
      "metadata": {
        "id": "-ZNAohM-naSr",
        "colab": {
          "base_uri": "https://localhost:8080/"
        },
        "outputId": "6c828439-5963-4b59-8f75-c1d0e159b753"
      },
      "source": [
        "sqlContext.sql(\"\"\"\n",
        "SELECT JOB_TITLE, MAX_SALARY FROM jobs\n",
        "  WHERE MAX_SALARY = (SELECT MAX(MAX_SALARY) FROM jobs)\n",
        "\"\"\").show()"
      ],
      "execution_count": null,
      "outputs": [
        {
          "output_type": "stream",
          "text": [
            "+---------+----------+\n",
            "|JOB_TITLE|MAX_SALARY|\n",
            "+---------+----------+\n",
            "|President|     40000|\n",
            "+---------+----------+\n",
            "\n"
          ],
          "name": "stdout"
        }
      ]
    },
    {
      "cell_type": "markdown",
      "metadata": {
        "id": "dzenJwUnkNL8"
      },
      "source": [
        "Выведете всех работников связанных с ИТ. Выведете их менеджеров. "
      ]
    },
    {
      "cell_type": "code",
      "metadata": {
        "colab": {
          "base_uri": "https://localhost:8080/"
        },
        "id": "tIqVdPL-hUOr",
        "outputId": "d4c5f110-c216-4be4-b331-dcc69f55d715"
      },
      "source": [
        "sqlContext.sql(\"\"\"\n",
        "SELECT FIRST_NAME, LAST_NAME, MANAGER_ID FROM employees\n",
        "    WHERE JOB_ID = 'IT_PROG'\n",
        "\"\"\").show()"
      ],
      "execution_count": null,
      "outputs": [
        {
          "output_type": "stream",
          "text": [
            "+----------+---------+----------+\n",
            "|FIRST_NAME|LAST_NAME|MANAGER_ID|\n",
            "+----------+---------+----------+\n",
            "| Alexander|   Hunold|       102|\n",
            "|     Bruce|    Ernst|       103|\n",
            "|     David|   Austin|       103|\n",
            "|     Valli|Pataballa|       103|\n",
            "|     Diana|  Lorentz|       103|\n",
            "+----------+---------+----------+\n",
            "\n"
          ],
          "name": "stdout"
        }
      ]
    },
    {
      "cell_type": "code",
      "metadata": {
        "id": "eogYiLjXna3h",
        "colab": {
          "base_uri": "https://localhost:8080/"
        },
        "outputId": "b399bb78-61f8-4a03-b31c-d8c05642e95a"
      },
      "source": [
        "sqlContext.sql(\"\"\"\n",
        "SELECT FIRST_NAME, LAST_NAME, employees.MANAGER_ID FROM employees\n",
        "  INNER JOIN departments ON employees.DEPARTMENT_ID = departments.DEPARTMENT_ID\n",
        "    WHERE DEPARTMENT_NAME = 'IT'\n",
        "\"\"\").show()"
      ],
      "execution_count": null,
      "outputs": [
        {
          "output_type": "stream",
          "text": [
            "+----------+---------+----------+\n",
            "|FIRST_NAME|LAST_NAME|MANAGER_ID|\n",
            "+----------+---------+----------+\n",
            "| Alexander|   Hunold|       102|\n",
            "|     Bruce|    Ernst|       103|\n",
            "|     David|   Austin|       103|\n",
            "|     Valli|Pataballa|       103|\n",
            "|     Diana|  Lorentz|       103|\n",
            "+----------+---------+----------+\n",
            "\n"
          ],
          "name": "stdout"
        }
      ]
    },
    {
      "cell_type": "markdown",
      "metadata": {
        "id": "tvpCoeYPmLTW"
      },
      "source": [
        "Выведете имя и фамилию работника, его текущую и предыдущую должности и сколько полных недель и дней прошло с момент изменения. \n",
        "\n"
      ]
    },
    {
      "cell_type": "code",
      "metadata": {
        "id": "SkCvyzkVnbo6"
      },
      "source": [
        "table = sqlContext.sql(\"\"\"\n",
        "SELECT FIRST_NAME, LAST_NAME, employees.JOB_ID as JOB_ID_NOW,\n",
        "job_history.JOB_ID, START_DATE, END_DATE, HIRE_DATE FROM job_history\n",
        "    RIGHT JOIN employees ON employees.EMPLOYEE_ID = job_history.EMPLOYEE_ID \n",
        "\"\"\")"
      ],
      "execution_count": null,
      "outputs": []
    },
    {
      "cell_type": "code",
      "metadata": {
        "colab": {
          "base_uri": "https://localhost:8080/"
        },
        "id": "v1phhRKgoxHN",
        "outputId": "a6fe3183-3d7c-4759-efcd-e747e62b1968"
      },
      "source": [
        "table.show()"
      ],
      "execution_count": null,
      "outputs": [
        {
          "output_type": "stream",
          "text": [
            "+-----------+---------+----------+----------+----------+--------+---------+\n",
            "| FIRST_NAME|LAST_NAME|JOB_ID_NOW|    JOB_ID|START_DATE|END_DATE|HIRE_DATE|\n",
            "+-----------+---------+----------+----------+----------+--------+---------+\n",
            "|     Steven|     King|   AD_PRES|      null|      null|    null| 17.06.03|\n",
            "|      Neena|  Kochhar|     AD_VP|    AC_MGR|  28.10.01|15.03.05| 21.09.05|\n",
            "|      Neena|  Kochhar|     AD_VP|AC_ACCOUNT|  21.09.97|27.10.01| 21.09.05|\n",
            "|        Lex|  De Haan|     AD_VP|   IT_PROG|  13.01.01|24.07.06| 13.01.01|\n",
            "|  Alexander|   Hunold|   IT_PROG|      null|      null|    null| 03.01.06|\n",
            "|      Bruce|    Ernst|   IT_PROG|      null|      null|    null| 21.05.07|\n",
            "|      David|   Austin|   IT_PROG|      null|      null|    null| 25.06.05|\n",
            "|      Valli|Pataballa|   IT_PROG|      null|      null|    null| 05.02.06|\n",
            "|      Diana|  Lorentz|   IT_PROG|      null|      null|    null| 07.02.07|\n",
            "|      Nancy|Greenberg|    FI_MGR|      null|      null|    null| 17.08.02|\n",
            "|     Daniel|   Faviet|FI_ACCOUNT|      null|      null|    null| 16.08.02|\n",
            "|       John|     Chen|FI_ACCOUNT|      null|      null|    null| 28.09.05|\n",
            "|     Ismael|  Sciarra|FI_ACCOUNT|      null|      null|    null| 30.09.05|\n",
            "|Jose Manuel|    Urman|FI_ACCOUNT|      null|      null|    null| 07.03.06|\n",
            "|       Luis|     Popp|FI_ACCOUNT|      null|      null|    null| 07.12.07|\n",
            "|        Den| Raphaely|    PU_MAN|  ST_CLERK|  24.03.06|31.12.07| 07.12.02|\n",
            "|  Alexander|     Khoo|  PU_CLERK|      null|      null|    null| 18.05.03|\n",
            "|     Shelli|    Baida|  PU_CLERK|      null|      null|    null| 24.12.05|\n",
            "|      Sigal|   Tobias|  PU_CLERK|      null|      null|    null| 24.07.05|\n",
            "|        Guy|   Himuro|  PU_CLERK|      null|      null|    null| 15.11.06|\n",
            "+-----------+---------+----------+----------+----------+--------+---------+\n",
            "only showing top 20 rows\n",
            "\n"
          ],
          "name": "stdout"
        }
      ]
    },
    {
      "cell_type": "code",
      "metadata": {
        "id": "Q5uSduwwk1SQ"
      },
      "source": [
        "table_formatted = table\\\n",
        ".withColumn('START_DATE-formatted',when((table.START_DATE.isNull() | (table.START_DATE == '')) ,'0')\\\n",
        ".otherwise(from_unixtime(unix_timestamp(table.START_DATE,'dd.MM.yy'))))\\\n",
        ".withColumn('END_DATE-formatted',when((table.END_DATE.isNull() | (table.END_DATE == '')) ,'0')\\\n",
        ".otherwise(from_unixtime(unix_timestamp(table.END_DATE,'dd.MM.yy'))))\\\n",
        ".withColumn('HIRE_DATE-formatted',when((table.HIRE_DATE.isNull() | (table.HIRE_DATE == '')) ,'0')\\\n",
        ".otherwise(from_unixtime(unix_timestamp(table.HIRE_DATE,'dd.MM.yy'))))\\\n",
        ".drop('START_DATE','END_DATE', 'HIRE_DATE')"
      ],
      "execution_count": null,
      "outputs": []
    },
    {
      "cell_type": "code",
      "metadata": {
        "colab": {
          "base_uri": "https://localhost:8080/"
        },
        "id": "k-mHl4LbtNjO",
        "outputId": "dc26789b-6d1d-4139-9f3e-6c0715a15648"
      },
      "source": [
        "table_formatted.show(2)"
      ],
      "execution_count": null,
      "outputs": [
        {
          "output_type": "stream",
          "text": [
            "+----------+---------+----------+------+--------------------+-------------------+-------------------+\n",
            "|FIRST_NAME|LAST_NAME|JOB_ID_NOW|JOB_ID|START_DATE-formatted| END_DATE-formatted|HIRE_DATE-formatted|\n",
            "+----------+---------+----------+------+--------------------+-------------------+-------------------+\n",
            "|    Steven|     King|   AD_PRES|  null|                   0|                  0|2003-06-17 00:00:00|\n",
            "|     Neena|  Kochhar|     AD_VP|AC_MGR| 2001-10-28 00:00:00|2005-03-15 00:00:00|2005-09-21 00:00:00|\n",
            "+----------+---------+----------+------+--------------------+-------------------+-------------------+\n",
            "only showing top 2 rows\n",
            "\n"
          ],
          "name": "stdout"
        }
      ]
    },
    {
      "cell_type": "markdown",
      "metadata": {
        "id": "sOBhGAaanC0e"
      },
      "source": [
        "Выведете уникальные телефонные номера"
      ]
    },
    {
      "cell_type": "code",
      "metadata": {
        "id": "05BrXyrsncKf",
        "colab": {
          "base_uri": "https://localhost:8080/"
        },
        "outputId": "8b3f290b-a859-4d33-f523-4cfa9e717f80"
      },
      "source": [
        "sqlContext.sql(\"\"\"\n",
        "SELECT DISTINCT PHONE_NUMBER FROM employees\n",
        "\"\"\").show()"
      ],
      "execution_count": null,
      "outputs": [
        {
          "output_type": "stream",
          "text": [
            "+------------------+\n",
            "|      PHONE_NUMBER|\n",
            "+------------------+\n",
            "|011.44.1344.429018|\n",
            "|      515.127.4566|\n",
            "|      515.127.4564|\n",
            "|011.44.1344.429278|\n",
            "|      515.123.4569|\n",
            "|      650.124.1434|\n",
            "|      650.123.2234|\n",
            "|011.44.1344.498718|\n",
            "|      650.127.1634|\n",
            "|      515.127.4561|\n",
            "|011.44.1345.629268|\n",
            "|      515.127.4562|\n",
            "|011.44.1644.429264|\n",
            "|011.44.1644.429262|\n",
            "|      650.501.1876|\n",
            "|      650.127.1834|\n",
            "|011.44.1343.529268|\n",
            "|011.44.1644.429265|\n",
            "|      515.123.8181|\n",
            "|      650.507.9833|\n",
            "+------------------+\n",
            "only showing top 20 rows\n",
            "\n"
          ],
          "name": "stdout"
        }
      ]
    },
    {
      "cell_type": "markdown",
      "metadata": {
        "id": "qdf1VBv3nMR-"
      },
      "source": [
        "Есть ли сотрудники с одинаковыми фамилиями и сколько их."
      ]
    },
    {
      "cell_type": "code",
      "metadata": {
        "id": "apTLX1o6jy6K",
        "colab": {
          "base_uri": "https://localhost:8080/"
        },
        "outputId": "2e63385f-5135-4c27-9822-bf38c010cbc8"
      },
      "source": [
        "sqlContext.sql(\"\"\"\n",
        "SELECT LAST_NAME, count(LAST_NAME) FROM employees\n",
        "  GROUP BY LAST_NAME HAVING count(LAST_NAME) > 1\n",
        "\"\"\").show()"
      ],
      "execution_count": null,
      "outputs": [
        {
          "output_type": "stream",
          "text": [
            "+---------+----------------+\n",
            "|LAST_NAME|count(LAST_NAME)|\n",
            "+---------+----------------+\n",
            "|    Smith|               2|\n",
            "|     King|               2|\n",
            "|Cambrault|               2|\n",
            "|   Taylor|               2|\n",
            "+---------+----------------+\n",
            "\n"
          ],
          "name": "stdout"
        }
      ]
    },
    {
      "cell_type": "code",
      "metadata": {
        "id": "5zZ4ulfqgIiu"
      },
      "source": [
        ""
      ],
      "execution_count": null,
      "outputs": []
    },
    {
      "cell_type": "code",
      "metadata": {
        "id": "QOz1dUbRgLO2"
      },
      "source": [
        ""
      ],
      "execution_count": null,
      "outputs": []
    },
    {
      "cell_type": "code",
      "metadata": {
        "id": "mR9hZP8IiwS1"
      },
      "source": [
        ""
      ],
      "execution_count": null,
      "outputs": []
    },
    {
      "cell_type": "code",
      "metadata": {
        "id": "BROevJShqaME"
      },
      "source": [
        ""
      ],
      "execution_count": null,
      "outputs": []
    }
  ]
}